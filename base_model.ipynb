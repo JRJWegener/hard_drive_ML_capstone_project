{
 "cells": [
  {
   "cell_type": "code",
   "execution_count": null,
   "metadata": {},
   "outputs": [],
   "source": [
    "import polars as pl\n",
    "import pandas as pd\n",
    "import preprocessing.feature_engineering as fe\n",
    "import csv\n",
    "from sklearn.model_selection import train_test_split\n",
    "from sklearn.linear_model import LogisticRegression\n",
    "from sklearn.metrics import accuracy_score, confusion_matrix, recall_score\n",
    "from sklearn.preprocessing import StandardScaler"
   ]
  },
  {
   "cell_type": "code",
   "execution_count": null,
   "metadata": {},
   "outputs": [],
   "source": [
    "RSEED = 42"
   ]
  },
  {
   "cell_type": "code",
   "execution_count": null,
   "metadata": {},
   "outputs": [],
   "source": [
    "#df_selected = pl.read_parquet(\"./data/2022_data_selected.parquet\")"
   ]
  },
  {
   "cell_type": "code",
   "execution_count": null,
   "metadata": {},
   "outputs": [],
   "source": [
    "\"\"\"\n",
    "df_st4000 = df_selected.filter((pl.col(\"model\") == \"ST4000DM000\"))\n",
    "st400_dict = fe.create_faildate_dict(df_st4000)\n",
    "df_st4000 = fe.create_faildate(df_st4000, st400_dict)\n",
    "df_st4000 = fe.create_target_classification(df_st4000)\n",
    "\n",
    "\n",
    "df_st4000.write_parquet(\"./data/2022_data_ST4000DM000.parquet\")\n",
    "\"\"\""
   ]
  },
  {
   "cell_type": "code",
   "execution_count": null,
   "metadata": {},
   "outputs": [],
   "source": [
    "df = pl.read_parquet(\"./data/2022_data_ST4000DM000.parquet\")"
   ]
  },
  {
   "attachments": {},
   "cell_type": "markdown",
   "metadata": {},
   "source": [
    "filter out faulty data entries:"
   ]
  },
  {
   "cell_type": "code",
   "execution_count": null,
   "metadata": {},
   "outputs": [],
   "source": [
    "faulty_data = df.filter(pl.col('Time_till_failure') < 0 )['serial_number'].unique()\n",
    "faulty_data = faulty_data.to_list()"
   ]
  },
  {
   "cell_type": "code",
   "execution_count": null,
   "metadata": {},
   "outputs": [],
   "source": [
    "df_filter = df.filter( ~ pl.col(\"serial_number\").is_in(faulty_data))"
   ]
  },
  {
   "cell_type": "code",
   "execution_count": null,
   "metadata": {},
   "outputs": [],
   "source": [
    "print(df.shape)\n",
    "print(df_filter.shape)"
   ]
  },
  {
   "cell_type": "code",
   "execution_count": null,
   "metadata": {},
   "outputs": [],
   "source": [
    "df_filter = df_filter.to_pandas()"
   ]
  },
  {
   "cell_type": "code",
   "execution_count": null,
   "metadata": {},
   "outputs": [],
   "source": [
    "df_basemodel = df_filter.loc[:,[\"smart_5_raw\",\"smart_187_raw\",\"smart_188_raw\",\"smart_197_raw\",\"smart_198_raw\",\"failing_in14days\"]]"
   ]
  },
  {
   "cell_type": "code",
   "execution_count": null,
   "metadata": {},
   "outputs": [],
   "source": [
    "df_basemodel = df_basemodel.dropna()"
   ]
  },
  {
   "cell_type": "code",
   "execution_count": null,
   "metadata": {},
   "outputs": [],
   "source": [
    "df_basemodel.shape"
   ]
  },
  {
   "cell_type": "code",
   "execution_count": null,
   "metadata": {},
   "outputs": [],
   "source": [
    "df_target = df_basemodel.pop(\"failing_in14days\")"
   ]
  },
  {
   "cell_type": "code",
   "execution_count": null,
   "metadata": {},
   "outputs": [],
   "source": [
    "df_target"
   ]
  },
  {
   "cell_type": "code",
   "execution_count": null,
   "metadata": {},
   "outputs": [],
   "source": [
    "X_train, X_test, y_train, y_test = train_test_split(df_basemodel, df_target, train_size= 0.7, random_state=42, stratify=df_target)"
   ]
  },
  {
   "cell_type": "code",
   "execution_count": null,
   "metadata": {},
   "outputs": [],
   "source": [
    "st_scaler = StandardScaler()"
   ]
  },
  {
   "cell_type": "code",
   "execution_count": null,
   "metadata": {},
   "outputs": [],
   "source": [
    "X_train = st_scaler.fit_transform(X_train)"
   ]
  },
  {
   "cell_type": "code",
   "execution_count": null,
   "metadata": {},
   "outputs": [],
   "source": [
    "X_test = st_scaler.transform(X_test)"
   ]
  },
  {
   "cell_type": "code",
   "execution_count": null,
   "metadata": {},
   "outputs": [],
   "source": [
    "basemodel = LogisticRegression()"
   ]
  },
  {
   "cell_type": "code",
   "execution_count": null,
   "metadata": {},
   "outputs": [],
   "source": [
    "basemodel.fit(X_train, y_train)"
   ]
  },
  {
   "cell_type": "code",
   "execution_count": null,
   "metadata": {},
   "outputs": [],
   "source": [
    "y_pred = basemodel.predict(X_test)"
   ]
  },
  {
   "cell_type": "code",
   "execution_count": null,
   "metadata": {},
   "outputs": [],
   "source": [
    "train_pred = basemodel.predict(X_train)"
   ]
  },
  {
   "cell_type": "code",
   "execution_count": null,
   "metadata": {},
   "outputs": [],
   "source": [
    "accuracy_score(y_test,y_pred)"
   ]
  },
  {
   "cell_type": "code",
   "execution_count": null,
   "metadata": {},
   "outputs": [],
   "source": [
    "matrix = confusion_matrix(y_test, y_pred)"
   ]
  },
  {
   "cell_type": "code",
   "execution_count": null,
   "metadata": {},
   "outputs": [],
   "source": [
    "recall_score(y_test, y_pred)"
   ]
  },
  {
   "cell_type": "code",
   "execution_count": null,
   "metadata": {},
   "outputs": [],
   "source": [
    "matrix"
   ]
  },
  {
   "cell_type": "code",
   "execution_count": null,
   "metadata": {},
   "outputs": [],
   "source": [
    "train_matrix = confusion_matrix(y_train, train_pred)\n",
    "train_matrix"
   ]
  },
  {
   "attachments": {},
   "cell_type": "markdown",
   "metadata": {},
   "source": [
    "### basemodel with if-else statements"
   ]
  },
  {
   "attachments": {},
   "cell_type": "markdown",
   "metadata": {},
   "source": [
    "base model (from backblaze): \n",
    "    if smart 5 > 0 OR smart 187 > 0 OR smart 188 > 0 OR smart 197 > 0 OR smart 198 >0:\n",
    "        hard drive fails\n",
    "    else: not failing"
   ]
  },
  {
   "cell_type": "code",
   "execution_count": null,
   "metadata": {},
   "outputs": [],
   "source": [
    "df_S3010LL5 = df_selected.filter(pl.col(\"serial_number\")==\"S3010LL5\")\n",
    "df_sorted2 = df_S3010LL5.sort(by='date')\n",
    "\n"
   ]
  },
  {
   "cell_type": "code",
   "execution_count": null,
   "metadata": {},
   "outputs": [],
   "source": [
    "df_ZJV3BYAY = df_selected.filter(pl.col(\"serial_number\")==\"ZJV3BYAY\")\n",
    "df_sorted1 = df_ZJV3BYAY.sort(by='date')"
   ]
  },
  {
   "cell_type": "code",
   "execution_count": null,
   "metadata": {},
   "outputs": [],
   "source": [
    "def basemodel(df, threshold):\n",
    "    df = df.to_pandas()\n",
    "    fail_pred = []\n",
    "    for index, row in df.iterrows():\n",
    "        counter = 0\n",
    "        if row[\"smart_5_raw\"] > 0:\n",
    "            counter +=1\n",
    "        if row[\"smart_187_raw\"] > 0:\n",
    "            counter +=1\n",
    "        if row[\"smart_188_raw\"] > 0:\n",
    "            counter +=1\n",
    "        if row[\"smart_197_raw\"] > 0:\n",
    "            counter +=1           \n",
    "        if row[\"smart_198_raw\"] > 0:\n",
    "            counter +=1\n",
    "        if counter >= threshold:\n",
    "            fail_pred.append(1)\n",
    "        else:\n",
    "            fail_pred.append(0)\n",
    "    return fail_pred\n"
   ]
  },
  {
   "attachments": {},
   "cell_type": "markdown",
   "metadata": {},
   "source": [
    "test basemodel S3010LL5\n"
   ]
  },
  {
   "cell_type": "code",
   "execution_count": null,
   "metadata": {},
   "outputs": [],
   "source": [
    "y_pred_S3010LL5_t2 = basemodel(df_sorted2, 2)\n",
    "y_pred_S3010LL5_t2"
   ]
  },
  {
   "cell_type": "code",
   "execution_count": null,
   "metadata": {},
   "outputs": [],
   "source": [
    "y_pred_S3010LL5_t3 = basemodel(df_sorted2, 3)\n",
    "y_pred_S3010LL5_t3"
   ]
  },
  {
   "cell_type": "code",
   "execution_count": null,
   "metadata": {},
   "outputs": [],
   "source": [
    "y_pred_S3010LL5_t4 = basemodel(df_sorted2, 4)\n",
    "y_pred_S3010LL5_t4"
   ]
  },
  {
   "attachments": {},
   "cell_type": "markdown",
   "metadata": {},
   "source": [
    "test basemodel ZJV3BYAY\n"
   ]
  },
  {
   "cell_type": "code",
   "execution_count": null,
   "metadata": {},
   "outputs": [],
   "source": [
    "y_pred_ZJV3BYAY_t2 = basemodel(df_sorted1, 2)\n",
    "y_pred_ZJV3BYAY_t2\n"
   ]
  },
  {
   "cell_type": "code",
   "execution_count": null,
   "metadata": {},
   "outputs": [],
   "source": [
    "\n",
    "y_pred_ZJV3BYAY_t3 = basemodel(df_sorted1, 3)\n",
    "y_pred_ZJV3BYAY_t3\n"
   ]
  }
 ],
 "metadata": {
  "kernelspec": {
   "display_name": ".venv",
   "language": "python",
   "name": "python3"
  },
  "language_info": {
   "codemirror_mode": {
    "name": "ipython",
    "version": 3
   },
   "file_extension": ".py",
   "mimetype": "text/x-python",
   "name": "python",
   "nbconvert_exporter": "python",
   "pygments_lexer": "ipython3",
   "version": "3.9.8 (main, Jan  9 2023, 15:26:45) \n[Clang 14.0.0 (clang-1400.0.29.202)]"
  },
  "orig_nbformat": 4,
  "vscode": {
   "interpreter": {
    "hash": "b4b99188e5364a379ec3ffcc2bc95e2fbc26291e34f70475c442499b88ef0e48"
   }
  }
 },
 "nbformat": 4,
 "nbformat_minor": 2
}
