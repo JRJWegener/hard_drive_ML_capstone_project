{
 "cells": [
  {
   "cell_type": "code",
   "execution_count": null,
   "metadata": {},
   "outputs": [],
   "source": [
    "import polars as pl\n",
    "import pandas as pd\n",
    "import preprocessing.transform_data as td\n",
    "import preprocessing.feature_engineering as fe"
   ]
  },
  {
   "cell_type": "code",
   "execution_count": null,
   "metadata": {},
   "outputs": [],
   "source": [
    "df_raw = pl.read_parquet(\"./data/2022_data_ST4000DM000.parquet\")"
   ]
  },
  {
   "cell_type": "code",
   "execution_count": null,
   "metadata": {},
   "outputs": [],
   "source": [
    "fe.search_faulty_drives(df_raw)"
   ]
  },
  {
   "cell_type": "code",
   "execution_count": null,
   "metadata": {},
   "outputs": [],
   "source": [
    "df_raw = td.filter_out_inconsistent_drives(df_raw)"
   ]
  },
  {
   "cell_type": "code",
   "execution_count": null,
   "metadata": {},
   "outputs": [],
   "source": [
    "Train, Test = td.custom_train_test_split(df_raw)"
   ]
  },
  {
   "cell_type": "code",
   "execution_count": null,
   "metadata": {},
   "outputs": [],
   "source": [
    "len(Train)"
   ]
  },
  {
   "cell_type": "code",
   "execution_count": null,
   "metadata": {},
   "outputs": [],
   "source": [
    "serial_nr_train = td.get_serial(df_raw)"
   ]
  },
  {
   "cell_type": "code",
   "execution_count": null,
   "metadata": {},
   "outputs": [],
   "source": [
    "train_chunks = td.divide_chunks(Train, 1500)\n",
    "test_chunks = td.divide_chunks(Test, 1500)"
   ]
  },
  {
   "cell_type": "code",
   "execution_count": 8,
   "metadata": {},
   "outputs": [],
   "source": [
    "td.create_chunks(df_raw,Train, name=\"Train\")"
   ]
  },
  {
   "cell_type": "code",
   "execution_count": null,
   "metadata": {},
   "outputs": [],
   "source": [
    "td.create_chunks(df_raw,Test, name=\"Test\")"
   ]
  },
  {
   "cell_type": "code",
   "execution_count": null,
   "metadata": {},
   "outputs": [],
   "source": [
    "X_test = pd.DataFrame()\n",
    "for i in range(1,5):\n",
    "    df_new = pd.read_parquet(f\"data/datachunks/Test_chunk{i}.parquet\")\n",
    "    X_test = pd.concat([X_test, df_new])\n"
   ]
  },
  {
   "cell_type": "code",
   "execution_count": null,
   "metadata": {},
   "outputs": [],
   "source": [
    "X_test\n"
   ]
  },
  {
   "cell_type": "code",
   "execution_count": null,
   "metadata": {},
   "outputs": [],
   "source": [
    "X_train = pd.DataFrame()\n",
    "for i in range(1,11):\n",
    "    df_new = pd.read_parquet(f\"data/datachunks/Train_chunk{i}.parquet\")\n",
    "    X_train = pd.concat([X_train, df_new])\n"
   ]
  },
  {
   "cell_type": "code",
   "execution_count": null,
   "metadata": {},
   "outputs": [],
   "source": [
    "X_train"
   ]
  },
  {
   "cell_type": "code",
   "execution_count": null,
   "metadata": {},
   "outputs": [],
   "source": [
    "# code courtesy of jezrael on stackoverflow (https://stackoverflow.com/questions/46445965/reset-a-recurring-multiindex-in-pandas)\n",
    "a1 = X_train.index.get_level_values(0).to_series()\n",
    "a2 = a1.ne(a1.shift()).cumsum() - 1\n",
    "\n",
    "mux = pd.MultiIndex.from_arrays([a2, X_train.index.get_level_values(1)], names=X_train.index.names)\n",
    "\n",
    "X_train.index = mux"
   ]
  },
  {
   "cell_type": "code",
   "execution_count": null,
   "metadata": {},
   "outputs": [],
   "source": [
    "# code courtesy of jezrael on stackoverflow (https://stackoverflow.com/questions/46445965/reset-a-recurring-multiindex-in-pandas)\n",
    "a1 = X_test.index.get_level_values(0).to_series()\n",
    "a2 = a1.ne(a1.shift()).cumsum() - 1\n",
    "\n",
    "mux = pd.MultiIndex.from_arrays([a2, X_test.index.get_level_values(1)], names=X_test.index.names)\n",
    "\n",
    "X_test.index = mux"
   ]
  },
  {
   "cell_type": "code",
   "execution_count": null,
   "metadata": {},
   "outputs": [],
   "source": [
    "y_train = X_train.iloc[::14, :][\"failing_in14days\"].astype(int).reset_index(drop=True)"
   ]
  },
  {
   "cell_type": "code",
   "execution_count": null,
   "metadata": {},
   "outputs": [],
   "source": [
    "y_test = X_test.iloc[::14, :][\"failing_in14days\"].astype(int).reset_index(drop=True)"
   ]
  },
  {
   "cell_type": "code",
   "execution_count": null,
   "metadata": {},
   "outputs": [],
   "source": [
    "from sktime.transformations.panel.rocket import Rocket, MiniRocketMultivariate\n",
    "from sktime.datatypes import convert,convert_to,mtype,check_raise\n",
    "from sklearn.linear_model import SGDClassifier"
   ]
  },
  {
   "cell_type": "code",
   "execution_count": null,
   "metadata": {},
   "outputs": [],
   "source": [
    "rocket = Rocket()"
   ]
  },
  {
   "cell_type": "code",
   "execution_count": null,
   "metadata": {},
   "outputs": [],
   "source": [
    "col_list = td.feature_list(target=False)\n",
    "X_train = X_train[col_list]"
   ]
  },
  {
   "cell_type": "code",
   "execution_count": null,
   "metadata": {},
   "outputs": [],
   "source": [
    "minirocket_multi = MiniRocketMultivariate()\n",
    "minirocket_multi.fit(X_train)\n"
   ]
  },
  {
   "cell_type": "code",
   "execution_count": null,
   "metadata": {},
   "outputs": [],
   "source": [
    "X_train_transform = minirocket_multi.transform(X_train)"
   ]
  },
  {
   "cell_type": "code",
   "execution_count": null,
   "metadata": {},
   "outputs": [],
   "source": [
    "#X_train2 = convert(df_rocket,from_type=\"pd-multiindex\", to_type=\"df-list\")"
   ]
  },
  {
   "cell_type": "code",
   "execution_count": null,
   "metadata": {},
   "outputs": [],
   "source": [
    "#rocket.fit(X_train)"
   ]
  },
  {
   "cell_type": "code",
   "execution_count": null,
   "metadata": {},
   "outputs": [],
   "source": [
    "#transformed_X = rocket.transform(X_train)"
   ]
  }
 ],
 "metadata": {
  "kernelspec": {
   "display_name": ".venv",
   "language": "python",
   "name": "python3"
  },
  "language_info": {
   "codemirror_mode": {
    "name": "ipython",
    "version": 3
   },
   "file_extension": ".py",
   "mimetype": "text/x-python",
   "name": "python",
   "nbconvert_exporter": "python",
   "pygments_lexer": "ipython3",
   "version": "3.9.8"
  },
  "orig_nbformat": 4,
  "vscode": {
   "interpreter": {
    "hash": "b4b99188e5364a379ec3ffcc2bc95e2fbc26291e34f70475c442499b88ef0e48"
   }
  }
 },
 "nbformat": 4,
 "nbformat_minor": 2
}
