{
 "cells": [
  {
   "cell_type": "code",
   "execution_count": null,
   "metadata": {},
   "outputs": [],
   "source": [
    "import pandas as pd\n",
    "import numpy as np\n",
    "import glob\n",
    "import pyarrow as pa\n",
    "import pyarrow.parquet as pq\n",
    "import polars as pl\n",
    "import seaborn as sns\n",
    "import matplotlib.pyplot as plt\n",
    "\n",
    "pd.set_option('display.float_format', lambda x: '%.2f' % x)\n",
    "pd.set_option('display.max_columns', 50)"
   ]
  },
  {
   "cell_type": "code",
   "execution_count": null,
   "metadata": {},
   "outputs": [],
   "source": [
    "df_all = pl.read_parquet('./data/2022_data_selected.parquet')"
   ]
  },
  {
   "cell_type": "code",
   "execution_count": null,
   "metadata": {},
   "outputs": [],
   "source": [
    "df_all.head()"
   ]
  },
  {
   "cell_type": "code",
   "execution_count": null,
   "metadata": {},
   "outputs": [],
   "source": [
    "df_all['serial_number'].value_counts()"
   ]
  },
  {
   "cell_type": "code",
   "execution_count": null,
   "metadata": {},
   "outputs": [],
   "source": [
    "df_all_modelcounts = df_all['model'].value_counts()\n",
    "df_all_modelcounts"
   ]
  },
  {
   "cell_type": "code",
   "execution_count": null,
   "metadata": {},
   "outputs": [],
   "source": [
    "df_all"
   ]
  },
  {
   "cell_type": "code",
   "execution_count": null,
   "metadata": {},
   "outputs": [],
   "source": [
    "df_all['failure'].value_counts()"
   ]
  },
  {
   "cell_type": "code",
   "execution_count": null,
   "metadata": {},
   "outputs": [],
   "source": [
    "df_all.null_count().transpose()"
   ]
  },
  {
   "cell_type": "code",
   "execution_count": null,
   "metadata": {},
   "outputs": [],
   "source": [
    "def get_nan_count_percent(df, divisor=None):\n",
    "    \"\"\"Calculates the number of nan values per column,\n",
    "        both as an absolute amount and as a percentage of some pre-defined \"total\" amount\n",
    "        \n",
    "        WARNING: Return value is of the same type (pd.DataFrame or dask.dataframe) as the\n",
    "        input. It is up to the caller to handle this accordingly.\n",
    "    \n",
    "    Arguments:\n",
    "        df {polars.DataFrame/dask.dataframe} -- dataframe whose nan count to generate\n",
    "    \n",
    "    Keyword Arguments:\n",
    "        divisor {int/float} -- the \"total\" amount for calculating percentage. \n",
    "                                If value in count column is n, value in percent column\n",
    "                                will be n/divisor.\n",
    "                                If not provided, number of rows is used by default\n",
    "                                (default: {None})\n",
    "    \n",
    "    Returns:\n",
    "        ret_df {pandas.DataFrame/dask.dataframe} -- dataframe with counts and percentages\n",
    "                                                    of nans in each column of input df.\n",
    "                                                    Column name is the index, \"count\" and\n",
    "                                                    \"percent\" are the two columns.\n",
    "    \"\"\"\n",
    "    # if total count is not provided, use the number of rows\n",
    "    if divisor is None:\n",
    "        # NOTE: len must be used, not shape because in case of dask dataframe\n",
    "        # shape returns a delayed computation, not an actual value. but\n",
    "        # len returns an actual value\n",
    "        divisor = len(df)\n",
    "\n",
    "    # get count and convert series to dataframe\n",
    "    ret_df = df.null_count().transpose()\n",
    "    ret_df = ret_df.with_column(pl.lit(ret_df[\"column_0\"] / divisor).alias('percent'))\n",
    "\n",
    "    # add percent column\n",
    "    #ret_df[\"percent\"] = ret_df[\"column_0\"] / divisor\n",
    "\n",
    "    return ret_df"
   ]
  },
  {
   "cell_type": "code",
   "execution_count": null,
   "metadata": {},
   "outputs": [],
   "source": [
    "get_nan_count_percent(df_all).sort(by='percent')"
   ]
  },
  {
   "cell_type": "code",
   "execution_count": null,
   "metadata": {},
   "outputs": [],
   "source": [
    "df_Seagate = df_all.filter(pl.col(\"model\") == \"ST4000DM000\")"
   ]
  },
  {
   "cell_type": "code",
   "execution_count": null,
   "metadata": {},
   "outputs": [],
   "source": [
    "df_Seagate['failure'].value_counts()"
   ]
  },
  {
   "cell_type": "code",
   "execution_count": null,
   "metadata": {},
   "outputs": [],
   "source": [
    "df = df_Seagate.to_pandas()\n",
    "df.head()"
   ]
  },
  {
   "cell_type": "code",
   "execution_count": null,
   "metadata": {},
   "outputs": [],
   "source": [
    "df.dtypes"
   ]
  },
  {
   "cell_type": "code",
   "execution_count": null,
   "metadata": {},
   "outputs": [],
   "source": [
    "corr = df.corr(method=\"spearman\")"
   ]
  },
  {
   "cell_type": "code",
   "execution_count": null,
   "metadata": {},
   "outputs": [],
   "source": [
    "sns.heatmap(corr)"
   ]
  },
  {
   "cell_type": "code",
   "execution_count": null,
   "metadata": {},
   "outputs": [],
   "source": [
    "df_Seagate.columns[4:]"
   ]
  },
  {
   "cell_type": "code",
   "execution_count": null,
   "metadata": {},
   "outputs": [],
   "source": [
    "grouping = df_Seagate.lazy().groupby(\"failure\").agg(pl.mean(df_Seagate.columns[5:]))"
   ]
  },
  {
   "cell_type": "code",
   "execution_count": null,
   "metadata": {},
   "outputs": [],
   "source": [
    "df_Seagate.describe()"
   ]
  },
  {
   "cell_type": "code",
   "execution_count": null,
   "metadata": {},
   "outputs": [],
   "source": []
  },
  {
   "cell_type": "code",
   "execution_count": null,
   "metadata": {},
   "outputs": [],
   "source": [
    "df_grouped = grouping.collect()"
   ]
  },
  {
   "cell_type": "code",
   "execution_count": null,
   "metadata": {},
   "outputs": [],
   "source": [
    "df_grouped = df_grouped.to_pandas()"
   ]
  },
  {
   "cell_type": "code",
   "execution_count": null,
   "metadata": {},
   "outputs": [],
   "source": [
    "df_grouped = df_grouped.round(2)"
   ]
  },
  {
   "cell_type": "code",
   "execution_count": null,
   "metadata": {},
   "outputs": [],
   "source": [
    "df_grouped"
   ]
  },
  {
   "cell_type": "code",
   "execution_count": null,
   "metadata": {},
   "outputs": [],
   "source": [
    "fig, ax= plt.subplots(16,2)\n",
    "sns.set(rc={'figure.figsize':(30,60)})\n",
    "row_counter = 0\n",
    "for i in range(1,33):\n",
    "    if i % 2 != 0:        \n",
    "        graph1 = sns.barplot(data=df_grouped, x='failure', y=df_grouped.columns[i], ax=ax[row_counter,0],) \n",
    "\n",
    "    if i % 2 == 0:\n",
    "        graph1 = sns.barplot(data=df_grouped, x='failure', y=df_grouped.columns[i], ax=ax[row_counter,1],) \n",
    "\n",
    "        row_counter += 1\n",
    "plt.margins(x=0.0005)\n",
    "\n",
    "plt.show()\n"
   ]
  },
  {
   "cell_type": "code",
   "execution_count": null,
   "metadata": {},
   "outputs": [],
   "source": [
    "df_failed = df[df['failure'] == 1]"
   ]
  },
  {
   "cell_type": "code",
   "execution_count": null,
   "metadata": {},
   "outputs": [],
   "source": [
    "sns.histplot(data=df, x='failure')"
   ]
  },
  {
   "cell_type": "code",
   "execution_count": null,
   "metadata": {},
   "outputs": [],
   "source": [
    "df_filtered = df[(df['serial_number'] == \"Z305B8PX\")]"
   ]
  },
  {
   "cell_type": "code",
   "execution_count": null,
   "metadata": {},
   "outputs": [],
   "source": [
    "sns.lineplot(data=df_filtered, x=\"date\", y='capacity_bytes')"
   ]
  },
  {
   "cell_type": "code",
   "execution_count": null,
   "metadata": {},
   "outputs": [],
   "source": [
    "sns.histplot(data=df_Seagate, x='serial_number')\n",
    "sns.set(rc={'figure.figsize':(11.7,12.27)})\n",
    "plt.yticks();"
   ]
  },
  {
   "cell_type": "code",
   "execution_count": null,
   "metadata": {},
   "outputs": [],
   "source": [
    "df_Seagate.null_count()"
   ]
  },
  {
   "cell_type": "code",
   "execution_count": null,
   "metadata": {},
   "outputs": [],
   "source": [
    "df_all = df_all.with_columns(pl.col('date').str.strptime(pl.Date, fmt='%Y-%m-%d'), strict=False)"
   ]
  },
  {
   "cell_type": "code",
   "execution_count": null,
   "metadata": {},
   "outputs": [],
   "source": [
    "df_failure = df_all.filter(pl.col(\"failure\") == 1)"
   ]
  },
  {
   "cell_type": "code",
   "execution_count": null,
   "metadata": {},
   "outputs": [],
   "source": [
    "df_failure"
   ]
  },
  {
   "cell_type": "code",
   "execution_count": null,
   "metadata": {},
   "outputs": [],
   "source": [
    "df_failure_sorted = df_failure['model'].value_counts().sort(by='counts', descending=True)"
   ]
  },
  {
   "cell_type": "code",
   "execution_count": null,
   "metadata": {},
   "outputs": [],
   "source": [
    "df_failure_sorted =df_failure_sorted.to_pandas()"
   ]
  },
  {
   "cell_type": "code",
   "execution_count": null,
   "metadata": {},
   "outputs": [],
   "source": [
    "df_failure_sorted =df_failure_sorted.to_pandas()\n"
   ]
  },
  {
   "cell_type": "code",
   "execution_count": null,
   "metadata": {},
   "outputs": [],
   "source": [
    "sns.barplot(data=df_failure_sorted, x=\"counts\" ,y='model',color=\"blue\")\n",
    "sns.set(rc={'figure.figsize':(11.7,12.27)})\n",
    "plt.yticks();"
   ]
  },
  {
   "cell_type": "code",
   "execution_count": null,
   "metadata": {},
   "outputs": [],
   "source": [
    "sns.barplot(data=df_all_modelcounts.to_pandas(), x=\"counts\" ,y='model',color=\"blue\")\n",
    "sns.set(rc={'figure.figsize':(11.7,12.27)})\n",
    "plt.yticks();\n"
   ]
  },
  {
   "cell_type": "code",
   "execution_count": null,
   "metadata": {},
   "outputs": [],
   "source": [
    "df_failed_example = df_all.filter(pl.col(\"serial_number\") == \"ZJV3BYAY\")"
   ]
  },
  {
   "cell_type": "code",
   "execution_count": null,
   "metadata": {},
   "outputs": [],
   "source": [
    "df_sorted = df_failed_example.sort(by='date')"
   ]
  },
  {
   "cell_type": "code",
   "execution_count": null,
   "metadata": {},
   "outputs": [],
   "source": [
    "df_sorted"
   ]
  },
  {
   "cell_type": "code",
   "execution_count": null,
   "metadata": {},
   "outputs": [],
   "source": [
    "fig, ax = plt.subplots(32, figsize=(20,40))\n",
    "for i in range(32):\n",
    "    graph1 = sns.lineplot(data=df_sorted, x='date', y=df_sorted.columns[i+5], ax=ax[i])\n",
    "    "
   ]
  },
  {
   "cell_type": "code",
   "execution_count": null,
   "metadata": {},
   "outputs": [],
   "source": []
  }
 ],
 "metadata": {
  "kernelspec": {
   "display_name": ".venv",
   "language": "python",
   "name": "python3"
  },
  "language_info": {
   "codemirror_mode": {
    "name": "ipython",
    "version": 3
   },
   "file_extension": ".py",
   "mimetype": "text/x-python",
   "name": "python",
   "nbconvert_exporter": "python",
   "pygments_lexer": "ipython3",
   "version": "3.9.8 (main, Jan 10 2023, 18:28:37) \n[Clang 14.0.0 (clang-1400.0.29.202)]"
  },
  "vscode": {
   "interpreter": {
    "hash": "ff0d5525b38b6ff3ec7fc4f4fbd55809484b58e1350c0c6276fd185840225900"
   }
  }
 },
 "nbformat": 4,
 "nbformat_minor": 4
}
