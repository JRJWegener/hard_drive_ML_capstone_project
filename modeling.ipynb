{
 "cells": [
  {
   "attachments": {},
   "cell_type": "markdown",
   "metadata": {},
   "source": [
    "### modeling"
   ]
  },
  {
   "cell_type": "code",
   "execution_count": null,
   "metadata": {},
   "outputs": [],
   "source": [
    "# import statements\n",
    "import pandas as pd\n",
    "from sklearn.linear_model import SGDClassifier\n",
    "from sklearn.ensemble import RandomForestClassifier\n",
    "from imblearn.under_sampling import RandomUnderSampler\n",
    "import sklearn.metrics as metrics"
   ]
  },
  {
   "cell_type": "code",
   "execution_count": null,
   "metadata": {},
   "outputs": [],
   "source": [
    "X_test_30_transform = pd.read_pickle(\"data/X_test_30_transform.pkl\")"
   ]
  },
  {
   "cell_type": "code",
   "execution_count": null,
   "metadata": {},
   "outputs": [],
   "source": [
    "X_train_30_transform = pd.read_pickle(\"data/X_train_30_transform.pkl\")"
   ]
  },
  {
   "cell_type": "code",
   "execution_count": null,
   "metadata": {},
   "outputs": [],
   "source": [
    "y_train_30 = pd.read_pickle(\"data/y_train_30.pkl\")"
   ]
  },
  {
   "cell_type": "code",
   "execution_count": null,
   "metadata": {},
   "outputs": [],
   "source": [
    "y_test_30 = pd.read_pickle(\"data/y_test_30.pkl\")"
   ]
  },
  {
   "attachments": {},
   "cell_type": "markdown",
   "metadata": {},
   "source": [
    "### resampling"
   ]
  },
  {
   "cell_type": "code",
   "execution_count": null,
   "metadata": {},
   "outputs": [],
   "source": [
    "rus = RandomUnderSampler(sampling_strategy = 0.01, random_state=42)\n"
   ]
  },
  {
   "cell_type": "code",
   "execution_count": null,
   "metadata": {},
   "outputs": [],
   "source": [
    "X_train_transform_resampled, y_train_resampled = rus.fit_resample(X_train_30_transform, y_train_30)"
   ]
  },
  {
   "attachments": {},
   "cell_type": "markdown",
   "metadata": {},
   "source": [
    "### classifying"
   ]
  },
  {
   "attachments": {},
   "cell_type": "markdown",
   "metadata": {},
   "source": [
    "#### stochastic gradient descent"
   ]
  },
  {
   "cell_type": "code",
   "execution_count": null,
   "metadata": {},
   "outputs": [],
   "source": [
    "SGDC = SGDClassifier(loss= \"log_loss\", warm_start=True, alpha = 0.0001, penalty= 'l2')"
   ]
  },
  {
   "cell_type": "code",
   "execution_count": null,
   "metadata": {},
   "outputs": [],
   "source": [
    "list_df = [X_train_30_transform[i:i+50000] for i in range(0,len(X_train_30_transform),50000)]\n"
   ]
  },
  {
   "cell_type": "code",
   "execution_count": null,
   "metadata": {},
   "outputs": [],
   "source": [
    "list_y = [y_train_30[i:i+50000] for i in range(0,len(y_train_30),50000)]"
   ]
  },
  {
   "cell_type": "code",
   "execution_count": null,
   "metadata": {},
   "outputs": [],
   "source": [
    "counter = 1\n",
    "for df, y in zip(list_df ,list_y):\n",
    "    SGDC.partial_fit(df, y, classes=np.unique(y_train_30))\n",
    "    print(f\"{counter}. fit done!\")\n",
    "    counter += 1"
   ]
  },
  {
   "cell_type": "code",
   "execution_count": null,
   "metadata": {},
   "outputs": [],
   "source": [
    "y_pred = SGDC.predict(X_test_30_transform)"
   ]
  },
  {
   "attachments": {},
   "cell_type": "markdown",
   "metadata": {},
   "source": [
    "#### random forest"
   ]
  },
  {
   "cell_type": "code",
   "execution_count": null,
   "metadata": {},
   "outputs": [],
   "source": [
    "rfc = RandomForestClassifier(n_estimators=250, max_depth = 40, n_jobs = -1, random_state = 42)"
   ]
  },
  {
   "cell_type": "code",
   "execution_count": null,
   "metadata": {},
   "outputs": [],
   "source": [
    "rfc.fit(X_train_30_transform, y_train_30, )"
   ]
  },
  {
   "cell_type": "code",
   "execution_count": null,
   "metadata": {},
   "outputs": [],
   "source": [
    "rfc_pred = rfc.predict(X_test_30_transform)"
   ]
  },
  {
   "attachments": {},
   "cell_type": "markdown",
   "metadata": {},
   "source": [
    "#### random forest undersampled"
   ]
  },
  {
   "cell_type": "code",
   "execution_count": null,
   "metadata": {},
   "outputs": [],
   "source": [
    "rfc_sampled = RandomForestClassifier(n_estimators=250, max_depth = 40, n_jobs = -1, random_state = 42, )"
   ]
  },
  {
   "cell_type": "code",
   "execution_count": null,
   "metadata": {},
   "outputs": [],
   "source": [
    "rfc_sampled.fit(X_train_transform_resampled, y_train_resampled)"
   ]
  },
  {
   "cell_type": "code",
   "execution_count": null,
   "metadata": {},
   "outputs": [],
   "source": [
    "rfc_pred_sampled_pred = rfc_sampled.predict(X_test_30_transform)"
   ]
  },
  {
   "attachments": {},
   "cell_type": "markdown",
   "metadata": {},
   "source": [
    "#### results"
   ]
  },
  {
   "cell_type": "code",
   "execution_count": null,
   "metadata": {},
   "outputs": [],
   "source": [
    "print(\"stochastic gradient descent\")\n",
    "print(\"accuracy: \",metrics.accuracy_score(y_test_30, y_pred))\n",
    "print(\"recall: \",metrics.recall_score(y_test_30, y_pred))\n",
    "print(\"F1: \",metrics.f1_score(y_test_30, y_pred))\n",
    "metrics.confusion_matrix(y_test_30, y_pred)"
   ]
  },
  {
   "cell_type": "code",
   "execution_count": null,
   "metadata": {},
   "outputs": [],
   "source": [
    "print(\"random forest\")\n",
    "print(\"accuracy: \",metrics.accuracy_score(y_test_30, rfc_pred))\n",
    "print(\"recall: \",metrics.recall_score(y_test_30, rfc_pred))\n",
    "print(\"F1: \",metrics.f1_score(y_test_30, rfc_pred))\n",
    "metrics.confusion_matrix(y_test_30, rfc_pred)"
   ]
  },
  {
   "cell_type": "code",
   "execution_count": null,
   "metadata": {},
   "outputs": [],
   "source": [
    "print(\"random forest undersampled\")\n",
    "print(\"accuracy: \",metrics.accuracy_score(y_test_30, rfc_pred_sampled_pred))\n",
    "print(\"recall: \",metrics.recall_score(y_test_30, rfc_pred_sampled_pred))\n",
    "print(\"F1: \",metrics.f1_score(y_test_30, rfc_pred_sampled_pred))\n",
    "metrics.confusion_matrix(y_test_30, rfc_pred_sampled_pred)"
   ]
  }
 ],
 "metadata": {
  "kernelspec": {
   "display_name": ".venv",
   "language": "python",
   "name": "python3"
  },
  "language_info": {
   "codemirror_mode": {
    "name": "ipython",
    "version": 3
   },
   "file_extension": ".py",
   "mimetype": "text/x-python",
   "name": "python",
   "nbconvert_exporter": "python",
   "pygments_lexer": "ipython3",
   "version": "3.9.8 (main, Jan  9 2023, 15:26:45) \n[Clang 14.0.0 (clang-1400.0.29.202)]"
  },
  "orig_nbformat": 4,
  "vscode": {
   "interpreter": {
    "hash": "b4b99188e5364a379ec3ffcc2bc95e2fbc26291e34f70475c442499b88ef0e48"
   }
  }
 },
 "nbformat": 4,
 "nbformat_minor": 2
}
