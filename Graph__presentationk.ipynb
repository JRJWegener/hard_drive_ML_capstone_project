{
 "cells": [
  {
   "cell_type": "code",
   "execution_count": 1,
   "metadata": {},
   "outputs": [],
   "source": [
    "import polars as pl\n",
    "import pandas as pd\n",
    "import preprocessing.feature_engineering as fe\n",
    "import matplotlib.pyplot as plt\n",
    "import seaborn as sns\n",
    "import numpy as np\n",
    "from sklearn.preprocessing import StandardScaler\n",
    "\n",
    "import mplcyberpunk\n",
    "plt.style.use(\"cyberpunk\")\n"
   ]
  },
  {
   "cell_type": "code",
   "execution_count": 2,
   "metadata": {},
   "outputs": [],
   "source": [
    "df_selected = pl.read_parquet(\"./data/2022_data_selected.parquet\")"
   ]
  },
  {
   "cell_type": "code",
   "execution_count": 3,
   "metadata": {},
   "outputs": [
    {
     "data": {
      "text/plain": [
       "(80357762, 37)"
      ]
     },
     "execution_count": 3,
     "metadata": {},
     "output_type": "execute_result"
    }
   ],
   "source": [
    "df_selected.shape"
   ]
  },
  {
   "cell_type": "code",
   "execution_count": 4,
   "metadata": {},
   "outputs": [],
   "source": [
    "dict = fe.create_faildate_dict(df_selected)\n",
    "df = fe.create_faildate(df_selected, dict)\n",
    "df_classified = fe.create_target_classification(df)\n"
   ]
  },
  {
   "cell_type": "code",
   "execution_count": 5,
   "metadata": {},
   "outputs": [],
   "source": [
    "df_ST4000 = df_classified.filter((pl.col(\"model\") == \"ST4000DM000\"))"
   ]
  },
  {
   "cell_type": "code",
   "execution_count": 6,
   "metadata": {},
   "outputs": [
    {
     "data": {
      "text/plain": [
       "(6699353, 40)"
      ]
     },
     "execution_count": 6,
     "metadata": {},
     "output_type": "execute_result"
    },
    {
     "ename": "",
     "evalue": "",
     "output_type": "error",
     "traceback": [
      "\u001b[1;31mThe Kernel crashed while executing code in the the current cell or a previous cell. Please review the code in the cell(s) to identify a possible cause of the failure. Click <a href='https://aka.ms/vscodeJupyterKernelCrash'>here</a> for more info. View Jupyter <a href='command:jupyter.viewOutput'>log</a> for further details."
     ]
    }
   ],
   "source": [
    "df_ST4000.shape"
   ]
  },
  {
   "cell_type": "code",
   "execution_count": 6,
   "metadata": {},
   "outputs": [],
   "source": [
    "df_ST4000 = df_ST4000.filter(pl.col(\"Time_till_failure\") >= pl.duration(days=1))"
   ]
  },
  {
   "cell_type": "code",
   "execution_count": 7,
   "metadata": {},
   "outputs": [],
   "source": [
    "df_ST4000 = df_ST4000.to_pandas()"
   ]
  },
  {
   "cell_type": "code",
   "execution_count": 8,
   "metadata": {},
   "outputs": [
    {
     "data": {
      "text/html": [
       "<div>\n",
       "<style scoped>\n",
       "    .dataframe tbody tr th:only-of-type {\n",
       "        vertical-align: middle;\n",
       "    }\n",
       "\n",
       "    .dataframe tbody tr th {\n",
       "        vertical-align: top;\n",
       "    }\n",
       "\n",
       "    .dataframe thead th {\n",
       "        text-align: right;\n",
       "    }\n",
       "</style>\n",
       "<table border=\"1\" class=\"dataframe\">\n",
       "  <thead>\n",
       "    <tr style=\"text-align: right;\">\n",
       "      <th></th>\n",
       "      <th>date</th>\n",
       "      <th>serial_number</th>\n",
       "      <th>model</th>\n",
       "      <th>capacity_bytes</th>\n",
       "      <th>failure</th>\n",
       "      <th>smart_1_normalized</th>\n",
       "      <th>smart_1_raw</th>\n",
       "      <th>smart_3_normalized</th>\n",
       "      <th>smart_3_raw</th>\n",
       "      <th>smart_4_normalized</th>\n",
       "      <th>...</th>\n",
       "      <th>smart_194_raw</th>\n",
       "      <th>smart_197_normalized</th>\n",
       "      <th>smart_197_raw</th>\n",
       "      <th>smart_198_normalized</th>\n",
       "      <th>smart_198_raw</th>\n",
       "      <th>smart_199_normalized</th>\n",
       "      <th>smart_199_raw</th>\n",
       "      <th>faildate</th>\n",
       "      <th>Time_till_failure</th>\n",
       "      <th>failing_in14days</th>\n",
       "    </tr>\n",
       "  </thead>\n",
       "  <tbody>\n",
       "    <tr>\n",
       "      <th>0</th>\n",
       "      <td>2022-03-11</td>\n",
       "      <td>Z302SYB1</td>\n",
       "      <td>ST4000DM000</td>\n",
       "      <td>4000787030016</td>\n",
       "      <td>0</td>\n",
       "      <td>119.0</td>\n",
       "      <td>233213880.0</td>\n",
       "      <td>92.0</td>\n",
       "      <td>0.0</td>\n",
       "      <td>100.0</td>\n",
       "      <td>...</td>\n",
       "      <td>27.0</td>\n",
       "      <td>100.0</td>\n",
       "      <td>0.0</td>\n",
       "      <td>100.0</td>\n",
       "      <td>0.0</td>\n",
       "      <td>200.0</td>\n",
       "      <td>0.0</td>\n",
       "      <td>2022-04-18</td>\n",
       "      <td>38 days</td>\n",
       "      <td>0</td>\n",
       "    </tr>\n",
       "    <tr>\n",
       "      <th>1</th>\n",
       "      <td>2022-03-11</td>\n",
       "      <td>Z302B20G</td>\n",
       "      <td>ST4000DM000</td>\n",
       "      <td>4000787030016</td>\n",
       "      <td>0</td>\n",
       "      <td>118.0</td>\n",
       "      <td>195031208.0</td>\n",
       "      <td>92.0</td>\n",
       "      <td>0.0</td>\n",
       "      <td>100.0</td>\n",
       "      <td>...</td>\n",
       "      <td>22.0</td>\n",
       "      <td>100.0</td>\n",
       "      <td>0.0</td>\n",
       "      <td>100.0</td>\n",
       "      <td>0.0</td>\n",
       "      <td>200.0</td>\n",
       "      <td>0.0</td>\n",
       "      <td>2022-06-06</td>\n",
       "      <td>87 days</td>\n",
       "      <td>0</td>\n",
       "    </tr>\n",
       "    <tr>\n",
       "      <th>2</th>\n",
       "      <td>2022-03-11</td>\n",
       "      <td>Z304KCK9</td>\n",
       "      <td>ST4000DM000</td>\n",
       "      <td>4000787030016</td>\n",
       "      <td>0</td>\n",
       "      <td>117.0</td>\n",
       "      <td>159295632.0</td>\n",
       "      <td>91.0</td>\n",
       "      <td>0.0</td>\n",
       "      <td>100.0</td>\n",
       "      <td>...</td>\n",
       "      <td>26.0</td>\n",
       "      <td>100.0</td>\n",
       "      <td>16.0</td>\n",
       "      <td>100.0</td>\n",
       "      <td>16.0</td>\n",
       "      <td>200.0</td>\n",
       "      <td>0.0</td>\n",
       "      <td>2022-11-28</td>\n",
       "      <td>262 days</td>\n",
       "      <td>0</td>\n",
       "    </tr>\n",
       "    <tr>\n",
       "      <th>3</th>\n",
       "      <td>2022-03-11</td>\n",
       "      <td>Z304HVAX</td>\n",
       "      <td>ST4000DM000</td>\n",
       "      <td>4000787030016</td>\n",
       "      <td>0</td>\n",
       "      <td>117.0</td>\n",
       "      <td>132116312.0</td>\n",
       "      <td>93.0</td>\n",
       "      <td>0.0</td>\n",
       "      <td>100.0</td>\n",
       "      <td>...</td>\n",
       "      <td>27.0</td>\n",
       "      <td>100.0</td>\n",
       "      <td>0.0</td>\n",
       "      <td>100.0</td>\n",
       "      <td>0.0</td>\n",
       "      <td>200.0</td>\n",
       "      <td>0.0</td>\n",
       "      <td>2022-04-08</td>\n",
       "      <td>28 days</td>\n",
       "      <td>0</td>\n",
       "    </tr>\n",
       "    <tr>\n",
       "      <th>4</th>\n",
       "      <td>2022-03-11</td>\n",
       "      <td>Z305A951</td>\n",
       "      <td>ST4000DM000</td>\n",
       "      <td>4000787030016</td>\n",
       "      <td>0</td>\n",
       "      <td>107.0</td>\n",
       "      <td>12758120.0</td>\n",
       "      <td>91.0</td>\n",
       "      <td>0.0</td>\n",
       "      <td>100.0</td>\n",
       "      <td>...</td>\n",
       "      <td>22.0</td>\n",
       "      <td>100.0</td>\n",
       "      <td>8.0</td>\n",
       "      <td>100.0</td>\n",
       "      <td>8.0</td>\n",
       "      <td>200.0</td>\n",
       "      <td>23.0</td>\n",
       "      <td>2022-07-02</td>\n",
       "      <td>113 days</td>\n",
       "      <td>0</td>\n",
       "    </tr>\n",
       "  </tbody>\n",
       "</table>\n",
       "<p>5 rows × 40 columns</p>\n",
       "</div>"
      ],
      "text/plain": [
       "        date serial_number        model  capacity_bytes  failure  \\\n",
       "0 2022-03-11      Z302SYB1  ST4000DM000   4000787030016        0   \n",
       "1 2022-03-11      Z302B20G  ST4000DM000   4000787030016        0   \n",
       "2 2022-03-11      Z304KCK9  ST4000DM000   4000787030016        0   \n",
       "3 2022-03-11      Z304HVAX  ST4000DM000   4000787030016        0   \n",
       "4 2022-03-11      Z305A951  ST4000DM000   4000787030016        0   \n",
       "\n",
       "   smart_1_normalized  smart_1_raw  smart_3_normalized  smart_3_raw  \\\n",
       "0               119.0  233213880.0                92.0          0.0   \n",
       "1               118.0  195031208.0                92.0          0.0   \n",
       "2               117.0  159295632.0                91.0          0.0   \n",
       "3               117.0  132116312.0                93.0          0.0   \n",
       "4               107.0   12758120.0                91.0          0.0   \n",
       "\n",
       "   smart_4_normalized  ...  smart_194_raw  smart_197_normalized  \\\n",
       "0               100.0  ...           27.0                 100.0   \n",
       "1               100.0  ...           22.0                 100.0   \n",
       "2               100.0  ...           26.0                 100.0   \n",
       "3               100.0  ...           27.0                 100.0   \n",
       "4               100.0  ...           22.0                 100.0   \n",
       "\n",
       "   smart_197_raw  smart_198_normalized  smart_198_raw  smart_199_normalized  \\\n",
       "0            0.0                 100.0            0.0                 200.0   \n",
       "1            0.0                 100.0            0.0                 200.0   \n",
       "2           16.0                 100.0           16.0                 200.0   \n",
       "3            0.0                 100.0            0.0                 200.0   \n",
       "4            8.0                 100.0            8.0                 200.0   \n",
       "\n",
       "   smart_199_raw   faildate  Time_till_failure  failing_in14days  \n",
       "0            0.0 2022-04-18            38 days                 0  \n",
       "1            0.0 2022-06-06            87 days                 0  \n",
       "2            0.0 2022-11-28           262 days                 0  \n",
       "3            0.0 2022-04-08            28 days                 0  \n",
       "4           23.0 2022-07-02           113 days                 0  \n",
       "\n",
       "[5 rows x 40 columns]"
      ]
     },
     "execution_count": 8,
     "metadata": {},
     "output_type": "execute_result"
    }
   ],
   "source": [
    "df_ST4000.head()"
   ]
  },
  {
   "cell_type": "code",
   "execution_count": 9,
   "metadata": {},
   "outputs": [
    {
     "name": "stderr",
     "output_type": "stream",
     "text": [
      "/var/folders/hv/9tvdbwls3db6bpzxv58y5w_80000gn/T/ipykernel_6112/3634159383.py:1: FutureWarning: Indexing with multiple keys (implicitly converted to a tuple of keys) will be deprecated, use a list instead.\n",
      "  df_mean = df_ST4000.groupby(['Time_till_failure'])['smart_5_raw', 'smart_187_raw', 'smart_188_raw', 'smart_197_raw', 'smart_198_raw', 'smart_194_raw'].mean()\n"
     ]
    }
   ],
   "source": [
    "df_mean = df_ST4000.groupby(['Time_till_failure'])['smart_5_raw', 'smart_187_raw', 'smart_188_raw', 'smart_197_raw', 'smart_198_raw', 'smart_194_raw'].mean()"
   ]
  },
  {
   "cell_type": "code",
   "execution_count": 10,
   "metadata": {},
   "outputs": [
    {
     "name": "stderr",
     "output_type": "stream",
     "text": [
      "/var/folders/hv/9tvdbwls3db6bpzxv58y5w_80000gn/T/ipykernel_6112/285707816.py:1: FutureWarning: Indexing with multiple keys (implicitly converted to a tuple of keys) will be deprecated, use a list instead.\n",
      "  df_mean_normalized = df_ST4000.groupby(['Time_till_failure'])['smart_5_normalized', 'smart_187_normalized', 'smart_188_normalized', 'smart_197_normalized', 'smart_198_normalized', 'smart_194_normalized'].mean()\n"
     ]
    }
   ],
   "source": [
    "df_mean_normalized = df_ST4000.groupby(['Time_till_failure'])['smart_5_normalized', 'smart_187_normalized', 'smart_188_normalized', 'smart_197_normalized', 'smart_198_normalized', 'smart_194_normalized'].mean()"
   ]
  },
  {
   "cell_type": "code",
   "execution_count": 11,
   "metadata": {},
   "outputs": [
    {
     "data": {
      "text/html": [
       "<div>\n",
       "<style scoped>\n",
       "    .dataframe tbody tr th:only-of-type {\n",
       "        vertical-align: middle;\n",
       "    }\n",
       "\n",
       "    .dataframe tbody tr th {\n",
       "        vertical-align: top;\n",
       "    }\n",
       "\n",
       "    .dataframe thead th {\n",
       "        text-align: right;\n",
       "    }\n",
       "</style>\n",
       "<table border=\"1\" class=\"dataframe\">\n",
       "  <thead>\n",
       "    <tr style=\"text-align: right;\">\n",
       "      <th></th>\n",
       "      <th>smart_5_raw</th>\n",
       "      <th>smart_187_raw</th>\n",
       "      <th>smart_188_raw</th>\n",
       "      <th>smart_197_raw</th>\n",
       "      <th>smart_198_raw</th>\n",
       "      <th>smart_194_raw</th>\n",
       "    </tr>\n",
       "    <tr>\n",
       "      <th>Time_till_failure</th>\n",
       "      <th></th>\n",
       "      <th></th>\n",
       "      <th></th>\n",
       "      <th></th>\n",
       "      <th></th>\n",
       "      <th></th>\n",
       "    </tr>\n",
       "  </thead>\n",
       "  <tbody>\n",
       "    <tr>\n",
       "      <th>1 days</th>\n",
       "      <td>1194.709677</td>\n",
       "      <td>64.038710</td>\n",
       "      <td>0.385484</td>\n",
       "      <td>334.077419</td>\n",
       "      <td>334.077419</td>\n",
       "      <td>25.175806</td>\n",
       "    </tr>\n",
       "    <tr>\n",
       "      <th>2 days</th>\n",
       "      <td>1045.045752</td>\n",
       "      <td>61.519608</td>\n",
       "      <td>0.348039</td>\n",
       "      <td>272.614379</td>\n",
       "      <td>272.614379</td>\n",
       "      <td>25.192810</td>\n",
       "    </tr>\n",
       "    <tr>\n",
       "      <th>3 days</th>\n",
       "      <td>992.326264</td>\n",
       "      <td>58.867863</td>\n",
       "      <td>0.321370</td>\n",
       "      <td>248.874388</td>\n",
       "      <td>248.874388</td>\n",
       "      <td>25.238173</td>\n",
       "    </tr>\n",
       "    <tr>\n",
       "      <th>4 days</th>\n",
       "      <td>1003.864734</td>\n",
       "      <td>56.249597</td>\n",
       "      <td>0.267311</td>\n",
       "      <td>209.867955</td>\n",
       "      <td>209.867955</td>\n",
       "      <td>25.304348</td>\n",
       "    </tr>\n",
       "    <tr>\n",
       "      <th>5 days</th>\n",
       "      <td>887.605263</td>\n",
       "      <td>56.075658</td>\n",
       "      <td>0.269737</td>\n",
       "      <td>193.934211</td>\n",
       "      <td>193.934211</td>\n",
       "      <td>25.268092</td>\n",
       "    </tr>\n",
       "  </tbody>\n",
       "</table>\n",
       "</div>"
      ],
      "text/plain": [
       "                   smart_5_raw  smart_187_raw  smart_188_raw  smart_197_raw  \\\n",
       "Time_till_failure                                                             \n",
       "1 days             1194.709677      64.038710       0.385484     334.077419   \n",
       "2 days             1045.045752      61.519608       0.348039     272.614379   \n",
       "3 days              992.326264      58.867863       0.321370     248.874388   \n",
       "4 days             1003.864734      56.249597       0.267311     209.867955   \n",
       "5 days              887.605263      56.075658       0.269737     193.934211   \n",
       "\n",
       "                   smart_198_raw  smart_194_raw  \n",
       "Time_till_failure                                \n",
       "1 days                334.077419      25.175806  \n",
       "2 days                272.614379      25.192810  \n",
       "3 days                248.874388      25.238173  \n",
       "4 days                209.867955      25.304348  \n",
       "5 days                193.934211      25.268092  "
      ]
     },
     "execution_count": 11,
     "metadata": {},
     "output_type": "execute_result"
    }
   ],
   "source": [
    "df_mean.head()"
   ]
  },
  {
   "cell_type": "code",
   "execution_count": 12,
   "metadata": {},
   "outputs": [],
   "source": [
    "df_mean =df_mean.reset_index()\n",
    "df_mean_normalized =df_mean_normalized.reset_index()\n"
   ]
  },
  {
   "cell_type": "code",
   "execution_count": 13,
   "metadata": {},
   "outputs": [
    {
     "name": "stdout",
     "output_type": "stream",
     "text": [
      "<class 'pandas.core.frame.DataFrame'>\n",
      "RangeIndex: 360 entries, 0 to 359\n",
      "Data columns (total 7 columns):\n",
      " #   Column             Non-Null Count  Dtype          \n",
      "---  ------             --------------  -----          \n",
      " 0   Time_till_failure  360 non-null    timedelta64[ns]\n",
      " 1   smart_5_raw        360 non-null    float64        \n",
      " 2   smart_187_raw      360 non-null    float64        \n",
      " 3   smart_188_raw      360 non-null    float64        \n",
      " 4   smart_197_raw      360 non-null    float64        \n",
      " 5   smart_198_raw      360 non-null    float64        \n",
      " 6   smart_194_raw      360 non-null    float64        \n",
      "dtypes: float64(6), timedelta64[ns](1)\n",
      "memory usage: 19.8 KB\n"
     ]
    }
   ],
   "source": [
    "df_mean.info()"
   ]
  },
  {
   "cell_type": "code",
   "execution_count": 14,
   "metadata": {},
   "outputs": [
    {
     "data": {
      "text/html": [
       "<div>\n",
       "<style scoped>\n",
       "    .dataframe tbody tr th:only-of-type {\n",
       "        vertical-align: middle;\n",
       "    }\n",
       "\n",
       "    .dataframe tbody tr th {\n",
       "        vertical-align: top;\n",
       "    }\n",
       "\n",
       "    .dataframe thead th {\n",
       "        text-align: right;\n",
       "    }\n",
       "</style>\n",
       "<table border=\"1\" class=\"dataframe\">\n",
       "  <thead>\n",
       "    <tr style=\"text-align: right;\">\n",
       "      <th></th>\n",
       "      <th>Time_till_failure</th>\n",
       "      <th>smart_5_raw</th>\n",
       "      <th>smart_187_raw</th>\n",
       "      <th>smart_188_raw</th>\n",
       "      <th>smart_197_raw</th>\n",
       "      <th>smart_198_raw</th>\n",
       "      <th>smart_194_raw</th>\n",
       "    </tr>\n",
       "  </thead>\n",
       "  <tbody>\n",
       "    <tr>\n",
       "      <th>0</th>\n",
       "      <td>1</td>\n",
       "      <td>1194.709677</td>\n",
       "      <td>64.038710</td>\n",
       "      <td>0.385484</td>\n",
       "      <td>334.077419</td>\n",
       "      <td>334.077419</td>\n",
       "      <td>25.175806</td>\n",
       "    </tr>\n",
       "    <tr>\n",
       "      <th>1</th>\n",
       "      <td>2</td>\n",
       "      <td>1045.045752</td>\n",
       "      <td>61.519608</td>\n",
       "      <td>0.348039</td>\n",
       "      <td>272.614379</td>\n",
       "      <td>272.614379</td>\n",
       "      <td>25.192810</td>\n",
       "    </tr>\n",
       "    <tr>\n",
       "      <th>2</th>\n",
       "      <td>3</td>\n",
       "      <td>992.326264</td>\n",
       "      <td>58.867863</td>\n",
       "      <td>0.321370</td>\n",
       "      <td>248.874388</td>\n",
       "      <td>248.874388</td>\n",
       "      <td>25.238173</td>\n",
       "    </tr>\n",
       "    <tr>\n",
       "      <th>3</th>\n",
       "      <td>4</td>\n",
       "      <td>1003.864734</td>\n",
       "      <td>56.249597</td>\n",
       "      <td>0.267311</td>\n",
       "      <td>209.867955</td>\n",
       "      <td>209.867955</td>\n",
       "      <td>25.304348</td>\n",
       "    </tr>\n",
       "    <tr>\n",
       "      <th>4</th>\n",
       "      <td>5</td>\n",
       "      <td>887.605263</td>\n",
       "      <td>56.075658</td>\n",
       "      <td>0.269737</td>\n",
       "      <td>193.934211</td>\n",
       "      <td>193.934211</td>\n",
       "      <td>25.268092</td>\n",
       "    </tr>\n",
       "  </tbody>\n",
       "</table>\n",
       "</div>"
      ],
      "text/plain": [
       "   Time_till_failure  smart_5_raw  smart_187_raw  smart_188_raw  \\\n",
       "0                  1  1194.709677      64.038710       0.385484   \n",
       "1                  2  1045.045752      61.519608       0.348039   \n",
       "2                  3   992.326264      58.867863       0.321370   \n",
       "3                  4  1003.864734      56.249597       0.267311   \n",
       "4                  5   887.605263      56.075658       0.269737   \n",
       "\n",
       "   smart_197_raw  smart_198_raw  smart_194_raw  \n",
       "0     334.077419     334.077419      25.175806  \n",
       "1     272.614379     272.614379      25.192810  \n",
       "2     248.874388     248.874388      25.238173  \n",
       "3     209.867955     209.867955      25.304348  \n",
       "4     193.934211     193.934211      25.268092  "
      ]
     },
     "execution_count": 14,
     "metadata": {},
     "output_type": "execute_result"
    }
   ],
   "source": [
    "df_mean['Time_till_failure'] = df_mean['Time_till_failure'].dt.days\n",
    "df_mean.head()"
   ]
  },
  {
   "cell_type": "code",
   "execution_count": 15,
   "metadata": {},
   "outputs": [],
   "source": [
    "df_mean_smart = df_mean.drop(['Time_till_failure'], axis=1)\n",
    "df_mean_time = df_mean['Time_till_failure']\n"
   ]
  },
  {
   "cell_type": "code",
   "execution_count": 16,
   "metadata": {},
   "outputs": [
    {
     "data": {
      "text/html": [
       "<div>\n",
       "<style scoped>\n",
       "    .dataframe tbody tr th:only-of-type {\n",
       "        vertical-align: middle;\n",
       "    }\n",
       "\n",
       "    .dataframe tbody tr th {\n",
       "        vertical-align: top;\n",
       "    }\n",
       "\n",
       "    .dataframe thead th {\n",
       "        text-align: right;\n",
       "    }\n",
       "</style>\n",
       "<table border=\"1\" class=\"dataframe\">\n",
       "  <thead>\n",
       "    <tr style=\"text-align: right;\">\n",
       "      <th></th>\n",
       "      <th>smart_5_raw</th>\n",
       "      <th>smart_187_raw</th>\n",
       "      <th>smart_188_raw</th>\n",
       "      <th>smart_197_raw</th>\n",
       "      <th>smart_198_raw</th>\n",
       "      <th>smart_194_raw</th>\n",
       "    </tr>\n",
       "  </thead>\n",
       "  <tbody>\n",
       "    <tr>\n",
       "      <th>0</th>\n",
       "      <td>1194.709677</td>\n",
       "      <td>64.038710</td>\n",
       "      <td>0.385484</td>\n",
       "      <td>334.077419</td>\n",
       "      <td>334.077419</td>\n",
       "      <td>25.175806</td>\n",
       "    </tr>\n",
       "    <tr>\n",
       "      <th>1</th>\n",
       "      <td>1045.045752</td>\n",
       "      <td>61.519608</td>\n",
       "      <td>0.348039</td>\n",
       "      <td>272.614379</td>\n",
       "      <td>272.614379</td>\n",
       "      <td>25.192810</td>\n",
       "    </tr>\n",
       "    <tr>\n",
       "      <th>2</th>\n",
       "      <td>992.326264</td>\n",
       "      <td>58.867863</td>\n",
       "      <td>0.321370</td>\n",
       "      <td>248.874388</td>\n",
       "      <td>248.874388</td>\n",
       "      <td>25.238173</td>\n",
       "    </tr>\n",
       "    <tr>\n",
       "      <th>3</th>\n",
       "      <td>1003.864734</td>\n",
       "      <td>56.249597</td>\n",
       "      <td>0.267311</td>\n",
       "      <td>209.867955</td>\n",
       "      <td>209.867955</td>\n",
       "      <td>25.304348</td>\n",
       "    </tr>\n",
       "    <tr>\n",
       "      <th>4</th>\n",
       "      <td>887.605263</td>\n",
       "      <td>56.075658</td>\n",
       "      <td>0.269737</td>\n",
       "      <td>193.934211</td>\n",
       "      <td>193.934211</td>\n",
       "      <td>25.268092</td>\n",
       "    </tr>\n",
       "  </tbody>\n",
       "</table>\n",
       "</div>"
      ],
      "text/plain": [
       "   smart_5_raw  smart_187_raw  smart_188_raw  smart_197_raw  smart_198_raw  \\\n",
       "0  1194.709677      64.038710       0.385484     334.077419     334.077419   \n",
       "1  1045.045752      61.519608       0.348039     272.614379     272.614379   \n",
       "2   992.326264      58.867863       0.321370     248.874388     248.874388   \n",
       "3  1003.864734      56.249597       0.267311     209.867955     209.867955   \n",
       "4   887.605263      56.075658       0.269737     193.934211     193.934211   \n",
       "\n",
       "   smart_194_raw  \n",
       "0      25.175806  \n",
       "1      25.192810  \n",
       "2      25.238173  \n",
       "3      25.304348  \n",
       "4      25.268092  "
      ]
     },
     "execution_count": 16,
     "metadata": {},
     "output_type": "execute_result"
    }
   ],
   "source": [
    "df_mean_smart.head()"
   ]
  },
  {
   "cell_type": "code",
   "execution_count": 17,
   "metadata": {},
   "outputs": [],
   "source": [
    "scaler = StandardScaler()\n",
    "df_mean_smart = scaler.fit_transform(df_mean_smart)\n"
   ]
  },
  {
   "cell_type": "code",
   "execution_count": 18,
   "metadata": {},
   "outputs": [],
   "source": [
    "df_mean_smart = pd.DataFrame(df_mean_smart)"
   ]
  },
  {
   "cell_type": "code",
   "execution_count": 20,
   "metadata": {},
   "outputs": [],
   "source": [
    "df_mean = pd.concat([df_mean_time,df_mean_smart], axis=1)"
   ]
  },
  {
   "cell_type": "code",
   "execution_count": 21,
   "metadata": {},
   "outputs": [
    {
     "data": {
      "text/html": [
       "<div>\n",
       "<style scoped>\n",
       "    .dataframe tbody tr th:only-of-type {\n",
       "        vertical-align: middle;\n",
       "    }\n",
       "\n",
       "    .dataframe tbody tr th {\n",
       "        vertical-align: top;\n",
       "    }\n",
       "\n",
       "    .dataframe thead th {\n",
       "        text-align: right;\n",
       "    }\n",
       "</style>\n",
       "<table border=\"1\" class=\"dataframe\">\n",
       "  <thead>\n",
       "    <tr style=\"text-align: right;\">\n",
       "      <th></th>\n",
       "      <th>Time_till_failure</th>\n",
       "      <th>0</th>\n",
       "      <th>1</th>\n",
       "      <th>2</th>\n",
       "      <th>3</th>\n",
       "      <th>4</th>\n",
       "      <th>5</th>\n",
       "    </tr>\n",
       "  </thead>\n",
       "  <tbody>\n",
       "    <tr>\n",
       "      <th>0</th>\n",
       "      <td>1</td>\n",
       "      <td>5.294764</td>\n",
       "      <td>3.870681</td>\n",
       "      <td>6.104451</td>\n",
       "      <td>8.348101</td>\n",
       "      <td>8.348101</td>\n",
       "      <td>-0.932170</td>\n",
       "    </tr>\n",
       "    <tr>\n",
       "      <th>1</th>\n",
       "      <td>2</td>\n",
       "      <td>4.405981</td>\n",
       "      <td>3.643774</td>\n",
       "      <td>5.417773</td>\n",
       "      <td>6.698493</td>\n",
       "      <td>6.698493</td>\n",
       "      <td>-0.902895</td>\n",
       "    </tr>\n",
       "    <tr>\n",
       "      <th>2</th>\n",
       "      <td>3</td>\n",
       "      <td>4.092905</td>\n",
       "      <td>3.404919</td>\n",
       "      <td>4.928706</td>\n",
       "      <td>6.061334</td>\n",
       "      <td>6.061334</td>\n",
       "      <td>-0.824796</td>\n",
       "    </tr>\n",
       "    <tr>\n",
       "      <th>3</th>\n",
       "      <td>4</td>\n",
       "      <td>4.161427</td>\n",
       "      <td>3.169079</td>\n",
       "      <td>3.937336</td>\n",
       "      <td>5.014440</td>\n",
       "      <td>5.014440</td>\n",
       "      <td>-0.710866</td>\n",
       "    </tr>\n",
       "    <tr>\n",
       "      <th>4</th>\n",
       "      <td>5</td>\n",
       "      <td>3.471017</td>\n",
       "      <td>3.153411</td>\n",
       "      <td>3.981827</td>\n",
       "      <td>4.586794</td>\n",
       "      <td>4.586794</td>\n",
       "      <td>-0.773286</td>\n",
       "    </tr>\n",
       "  </tbody>\n",
       "</table>\n",
       "</div>"
      ],
      "text/plain": [
       "   Time_till_failure         0         1         2         3         4  \\\n",
       "0                  1  5.294764  3.870681  6.104451  8.348101  8.348101   \n",
       "1                  2  4.405981  3.643774  5.417773  6.698493  6.698493   \n",
       "2                  3  4.092905  3.404919  4.928706  6.061334  6.061334   \n",
       "3                  4  4.161427  3.169079  3.937336  5.014440  5.014440   \n",
       "4                  5  3.471017  3.153411  3.981827  4.586794  4.586794   \n",
       "\n",
       "          5  \n",
       "0 -0.932170  \n",
       "1 -0.902895  \n",
       "2 -0.824796  \n",
       "3 -0.710866  \n",
       "4 -0.773286  "
      ]
     },
     "execution_count": 21,
     "metadata": {},
     "output_type": "execute_result"
    }
   ],
   "source": [
    "df_mean.head()"
   ]
  },
  {
   "cell_type": "code",
   "execution_count": 22,
   "metadata": {},
   "outputs": [
    {
     "data": {
      "image/png": "[encoded data removed]",
      "text/plain": [
       "<Figure size 1000x500 with 1 Axes>"
      ]
     },
     "metadata": {},
     "output_type": "display_data"
    }
   ],
   "source": [
    "plt.style.use('dark_background')\n",
    "fig, ax = plt.subplots(figsize = (10,5))\n",
    "sns.lineplot(x=df_mean['Time_till_failure'],y=df_mean[0], ax=ax, color='r', label='Reallocated sectors')\n",
    "sns.lineplot(data=df_mean,x='Time_till_failure',y=1, ax=ax, label='Reported uncorrectable errors')\n",
    "sns.lineplot(data=df_mean,x='Time_till_failure',y=2, ax=ax, color='g', label='Aborted operations')\n",
    "sns.lineplot(data=df_mean,x='Time_till_failure',y=4, ax=ax, color='y', label='Uncorrectable sectors')\n",
    "ax.set_xlim(0,150)\n",
    "ax.set_ylim(-2,9)\n",
    "ax.invert_xaxis()\n",
    "plt.xlabel('Days till failure')\n",
    "plt.ylabel('scaled mean values')\n",
    "mplcyberpunk.make_lines_glow()\n",
    "plt.title('Mean of smart features in relation to the days till failure')\n",
    "#create legend object\n",
    "#l = ax.legend(frameon=1, facecolor= \"black\", loc=\"center right\", title=\"manufacturer\")\n",
    "#l.get_frame().set_edgecolor('black')\n",
    "#ax.grid(False)\n",
    "ax.grid(color='grey')\n",
    "plt.rc('axes', axisbelow=False)\n",
    "plt.show()"
   ]
  },
  {
   "cell_type": "code",
   "execution_count": 148,
   "metadata": {},
   "outputs": [
    {
     "ename": "ValueError",
     "evalue": "Length of list vectors must match length of `data` when both are used, but `data` has length 360 and the vector passed to `y` has length 4.",
     "output_type": "error",
     "traceback": [
      "\u001b[0;31m---------------------------------------------------------------------------\u001b[0m",
      "\u001b[0;31mValueError\u001b[0m                                Traceback (most recent call last)",
      "Cell \u001b[0;32mIn[148], line 3\u001b[0m\n\u001b[1;32m      1\u001b[0m plt\u001b[39m.\u001b[39mstyle\u001b[39m.\u001b[39muse(\u001b[39m'\u001b[39m\u001b[39mdark_background\u001b[39m\u001b[39m'\u001b[39m)\n\u001b[1;32m      2\u001b[0m fig, ax \u001b[39m=\u001b[39m plt\u001b[39m.\u001b[39msubplots(figsize \u001b[39m=\u001b[39m (\u001b[39m10\u001b[39m,\u001b[39m5\u001b[39m))\n\u001b[0;32m----> 3\u001b[0m sns\u001b[39m.\u001b[39;49mlineplot(data\u001b[39m=\u001b[39;49mdf_mean,x\u001b[39m=\u001b[39;49m\u001b[39m'\u001b[39;49m\u001b[39mTime_till_failure\u001b[39;49m\u001b[39m'\u001b[39;49m,y\u001b[39m=\u001b[39;49m[\u001b[39m0\u001b[39;49m,\u001b[39m1\u001b[39;49m,\u001b[39m2\u001b[39;49m,\u001b[39m3\u001b[39;49m] ,ax\u001b[39m=\u001b[39;49max, color\u001b[39m=\u001b[39;49m\u001b[39m'\u001b[39;49m\u001b[39mr\u001b[39;49m\u001b[39m'\u001b[39;49m, label\u001b[39m=\u001b[39;49m\u001b[39m'\u001b[39;49m\u001b[39mReallocated sectors\u001b[39;49m\u001b[39m'\u001b[39;49m)\n",
      "File \u001b[0;32m~/neuefische/hard_drive_ML_capstone_project/.venv/lib/python3.9/site-packages/seaborn/_decorators.py:46\u001b[0m, in \u001b[0;36m_deprecate_positional_args.<locals>.inner_f\u001b[0;34m(*args, **kwargs)\u001b[0m\n\u001b[1;32m     36\u001b[0m     warnings\u001b[39m.\u001b[39mwarn(\n\u001b[1;32m     37\u001b[0m         \u001b[39m\"\u001b[39m\u001b[39mPass the following variable\u001b[39m\u001b[39m{}\u001b[39;00m\u001b[39m as \u001b[39m\u001b[39m{}\u001b[39;00m\u001b[39mkeyword arg\u001b[39m\u001b[39m{}\u001b[39;00m\u001b[39m: \u001b[39m\u001b[39m{}\u001b[39;00m\u001b[39m. \u001b[39m\u001b[39m\"\u001b[39m\n\u001b[1;32m     38\u001b[0m         \u001b[39m\"\u001b[39m\u001b[39mFrom version 0.12, the only valid positional argument \u001b[39m\u001b[39m\"\u001b[39m\n\u001b[0;32m   (...)\u001b[0m\n\u001b[1;32m     43\u001b[0m         \u001b[39mFutureWarning\u001b[39;00m\n\u001b[1;32m     44\u001b[0m     )\n\u001b[1;32m     45\u001b[0m kwargs\u001b[39m.\u001b[39mupdate({k: arg \u001b[39mfor\u001b[39;00m k, arg \u001b[39min\u001b[39;00m \u001b[39mzip\u001b[39m(sig\u001b[39m.\u001b[39mparameters, args)})\n\u001b[0;32m---> 46\u001b[0m \u001b[39mreturn\u001b[39;00m f(\u001b[39m*\u001b[39;49m\u001b[39m*\u001b[39;49mkwargs)\n",
      "File \u001b[0;32m~/neuefische/hard_drive_ML_capstone_project/.venv/lib/python3.9/site-packages/seaborn/relational.py:692\u001b[0m, in \u001b[0;36mlineplot\u001b[0;34m(x, y, hue, size, style, data, palette, hue_order, hue_norm, sizes, size_order, size_norm, dashes, markers, style_order, units, estimator, ci, n_boot, seed, sort, err_style, err_kws, legend, ax, **kwargs)\u001b[0m\n\u001b[1;32m    677\u001b[0m \u001b[39m@_deprecate_positional_args\u001b[39m\n\u001b[1;32m    678\u001b[0m \u001b[39mdef\u001b[39;00m \u001b[39mlineplot\u001b[39m(\n\u001b[1;32m    679\u001b[0m     \u001b[39m*\u001b[39m,\n\u001b[0;32m   (...)\u001b[0m\n\u001b[1;32m    688\u001b[0m     legend\u001b[39m=\u001b[39m\u001b[39m\"\u001b[39m\u001b[39mauto\u001b[39m\u001b[39m\"\u001b[39m, ax\u001b[39m=\u001b[39m\u001b[39mNone\u001b[39;00m, \u001b[39m*\u001b[39m\u001b[39m*\u001b[39mkwargs\n\u001b[1;32m    689\u001b[0m ):\n\u001b[1;32m    691\u001b[0m     variables \u001b[39m=\u001b[39m _LinePlotter\u001b[39m.\u001b[39mget_semantics(\u001b[39mlocals\u001b[39m())\n\u001b[0;32m--> 692\u001b[0m     p \u001b[39m=\u001b[39m _LinePlotter(\n\u001b[1;32m    693\u001b[0m         data\u001b[39m=\u001b[39;49mdata, variables\u001b[39m=\u001b[39;49mvariables,\n\u001b[1;32m    694\u001b[0m         estimator\u001b[39m=\u001b[39;49mestimator, ci\u001b[39m=\u001b[39;49mci, n_boot\u001b[39m=\u001b[39;49mn_boot, seed\u001b[39m=\u001b[39;49mseed,\n\u001b[1;32m    695\u001b[0m         sort\u001b[39m=\u001b[39;49msort, err_style\u001b[39m=\u001b[39;49merr_style, err_kws\u001b[39m=\u001b[39;49merr_kws, legend\u001b[39m=\u001b[39;49mlegend,\n\u001b[1;32m    696\u001b[0m     )\n\u001b[1;32m    698\u001b[0m     p\u001b[39m.\u001b[39mmap_hue(palette\u001b[39m=\u001b[39mpalette, order\u001b[39m=\u001b[39mhue_order, norm\u001b[39m=\u001b[39mhue_norm)\n\u001b[1;32m    699\u001b[0m     p\u001b[39m.\u001b[39mmap_size(sizes\u001b[39m=\u001b[39msizes, order\u001b[39m=\u001b[39msize_order, norm\u001b[39m=\u001b[39msize_norm)\n",
      "File \u001b[0;32m~/neuefische/hard_drive_ML_capstone_project/.venv/lib/python3.9/site-packages/seaborn/relational.py:367\u001b[0m, in \u001b[0;36m_LinePlotter.__init__\u001b[0;34m(self, data, variables, estimator, ci, n_boot, seed, sort, err_style, err_kws, legend)\u001b[0m\n\u001b[1;32m    353\u001b[0m \u001b[39mdef\u001b[39;00m \u001b[39m__init__\u001b[39m(\n\u001b[1;32m    354\u001b[0m     \u001b[39mself\u001b[39m, \u001b[39m*\u001b[39m,\n\u001b[1;32m    355\u001b[0m     data\u001b[39m=\u001b[39m\u001b[39mNone\u001b[39;00m, variables\u001b[39m=\u001b[39m{},\n\u001b[0;32m   (...)\u001b[0m\n\u001b[1;32m    361\u001b[0m     \u001b[39m# the kind of plot to draw, but for the time being we need to set\u001b[39;00m\n\u001b[1;32m    362\u001b[0m     \u001b[39m# this information so the SizeMapping can use it\u001b[39;00m\n\u001b[1;32m    363\u001b[0m     \u001b[39mself\u001b[39m\u001b[39m.\u001b[39m_default_size_range \u001b[39m=\u001b[39m (\n\u001b[1;32m    364\u001b[0m         np\u001b[39m.\u001b[39mr_[\u001b[39m.5\u001b[39m, \u001b[39m2\u001b[39m] \u001b[39m*\u001b[39m mpl\u001b[39m.\u001b[39mrcParams[\u001b[39m\"\u001b[39m\u001b[39mlines.linewidth\u001b[39m\u001b[39m\"\u001b[39m]\n\u001b[1;32m    365\u001b[0m     )\n\u001b[0;32m--> 367\u001b[0m     \u001b[39msuper\u001b[39;49m()\u001b[39m.\u001b[39;49m\u001b[39m__init__\u001b[39;49m(data\u001b[39m=\u001b[39;49mdata, variables\u001b[39m=\u001b[39;49mvariables)\n\u001b[1;32m    369\u001b[0m     \u001b[39mself\u001b[39m\u001b[39m.\u001b[39mestimator \u001b[39m=\u001b[39m estimator\n\u001b[1;32m    370\u001b[0m     \u001b[39mself\u001b[39m\u001b[39m.\u001b[39mci \u001b[39m=\u001b[39m ci\n",
      "File \u001b[0;32m~/neuefische/hard_drive_ML_capstone_project/.venv/lib/python3.9/site-packages/seaborn/_core.py:605\u001b[0m, in \u001b[0;36mVectorPlotter.__init__\u001b[0;34m(self, data, variables)\u001b[0m\n\u001b[1;32m    603\u001b[0m \u001b[39mdef\u001b[39;00m \u001b[39m__init__\u001b[39m(\u001b[39mself\u001b[39m, data\u001b[39m=\u001b[39m\u001b[39mNone\u001b[39;00m, variables\u001b[39m=\u001b[39m{}):\n\u001b[0;32m--> 605\u001b[0m     \u001b[39mself\u001b[39;49m\u001b[39m.\u001b[39;49massign_variables(data, variables)\n\u001b[1;32m    607\u001b[0m     \u001b[39mfor\u001b[39;00m var, \u001b[39mcls\u001b[39m \u001b[39min\u001b[39;00m \u001b[39mself\u001b[39m\u001b[39m.\u001b[39m_semantic_mappings\u001b[39m.\u001b[39mitems():\n\u001b[1;32m    608\u001b[0m \n\u001b[1;32m    609\u001b[0m         \u001b[39m# Create the mapping function\u001b[39;00m\n\u001b[1;32m    610\u001b[0m         map_func \u001b[39m=\u001b[39m partial(\u001b[39mcls\u001b[39m\u001b[39m.\u001b[39mmap, plotter\u001b[39m=\u001b[39m\u001b[39mself\u001b[39m)\n",
      "File \u001b[0;32m~/neuefische/hard_drive_ML_capstone_project/.venv/lib/python3.9/site-packages/seaborn/_core.py:668\u001b[0m, in \u001b[0;36mVectorPlotter.assign_variables\u001b[0;34m(self, data, variables)\u001b[0m\n\u001b[1;32m    666\u001b[0m \u001b[39melse\u001b[39;00m:\n\u001b[1;32m    667\u001b[0m     \u001b[39mself\u001b[39m\u001b[39m.\u001b[39minput_format \u001b[39m=\u001b[39m \u001b[39m\"\u001b[39m\u001b[39mlong\u001b[39m\u001b[39m\"\u001b[39m\n\u001b[0;32m--> 668\u001b[0m     plot_data, variables \u001b[39m=\u001b[39m \u001b[39mself\u001b[39;49m\u001b[39m.\u001b[39;49m_assign_variables_longform(\n\u001b[1;32m    669\u001b[0m         data, \u001b[39m*\u001b[39;49m\u001b[39m*\u001b[39;49mvariables,\n\u001b[1;32m    670\u001b[0m     )\n\u001b[1;32m    672\u001b[0m \u001b[39mself\u001b[39m\u001b[39m.\u001b[39mplot_data \u001b[39m=\u001b[39m plot_data\n\u001b[1;32m    673\u001b[0m \u001b[39mself\u001b[39m\u001b[39m.\u001b[39mvariables \u001b[39m=\u001b[39m variables\n",
      "File \u001b[0;32m~/neuefische/hard_drive_ML_capstone_project/.venv/lib/python3.9/site-packages/seaborn/_core.py:918\u001b[0m, in \u001b[0;36mVectorPlotter._assign_variables_longform\u001b[0;34m(self, data, **kwargs)\u001b[0m\n\u001b[1;32m    912\u001b[0m         val_cls \u001b[39m=\u001b[39m val\u001b[39m.\u001b[39m\u001b[39m__class__\u001b[39m\u001b[39m.\u001b[39m\u001b[39m__name__\u001b[39m\n\u001b[1;32m    913\u001b[0m         err \u001b[39m=\u001b[39m (\n\u001b[1;32m    914\u001b[0m             \u001b[39mf\u001b[39m\u001b[39m\"\u001b[39m\u001b[39mLength of \u001b[39m\u001b[39m{\u001b[39;00mval_cls\u001b[39m}\u001b[39;00m\u001b[39m vectors must match length of `data`\u001b[39m\u001b[39m\"\u001b[39m\n\u001b[1;32m    915\u001b[0m             \u001b[39mf\u001b[39m\u001b[39m\"\u001b[39m\u001b[39m when both are used, but `data` has length \u001b[39m\u001b[39m{\u001b[39;00m\u001b[39mlen\u001b[39m(data)\u001b[39m}\u001b[39;00m\u001b[39m\"\u001b[39m\n\u001b[1;32m    916\u001b[0m             \u001b[39mf\u001b[39m\u001b[39m\"\u001b[39m\u001b[39m and the vector passed to `\u001b[39m\u001b[39m{\u001b[39;00mkey\u001b[39m}\u001b[39;00m\u001b[39m` has length \u001b[39m\u001b[39m{\u001b[39;00m\u001b[39mlen\u001b[39m(val)\u001b[39m}\u001b[39;00m\u001b[39m.\u001b[39m\u001b[39m\"\u001b[39m\n\u001b[1;32m    917\u001b[0m         )\n\u001b[0;32m--> 918\u001b[0m         \u001b[39mraise\u001b[39;00m \u001b[39mValueError\u001b[39;00m(err)\n\u001b[1;32m    920\u001b[0m plot_data[key] \u001b[39m=\u001b[39m val\n\u001b[1;32m    922\u001b[0m \u001b[39m# Try to infer the name of the variable\u001b[39;00m\n",
      "\u001b[0;31mValueError\u001b[0m: Length of list vectors must match length of `data` when both are used, but `data` has length 360 and the vector passed to `y` has length 4."
     ]
    },
    {
     "data": {
      "image/png": "[encoded data removed]",
      "text/plain": [
       "<Figure size 1000x500 with 1 Axes>"
      ]
     },
     "metadata": {},
     "output_type": "display_data"
    }
   ],
   "source": [
    "plt.style.use('dark_background')\n",
    "fig, ax = plt.subplots(figsize = (10,5))\n",
    "sns.lineplot(data=df_mean,x='Time_till_failure',y=[0,1,2,3] ,ax=ax, color='r', label='Reallocated sectors')"
   ]
  },
  {
   "cell_type": "code",
   "execution_count": 149,
   "metadata": {},
   "outputs": [],
   "source": [
    "a = pd.read_csv('/Users/frederikbruns/neuefische/hard_drive_ML_capstone_project/data/data_Q1_2022/2022-01-01.csv')"
   ]
  },
  {
   "cell_type": "code",
   "execution_count": null,
   "metadata": {},
   "outputs": [],
   "source": [
    "df_mean_normalized.head()"
   ]
  },
  {
   "cell_type": "code",
   "execution_count": null,
   "metadata": {},
   "outputs": [],
   "source": [
    "cols = ['smart_5_normalized', 'smart_187_normalized', 'smart_188_normalized', 'smart_197_normalized', 'smart_198_normalized', 'smart_194_normalized']\n",
    "df_mean_normalized[cols] = df_mean_normalized[cols].apply(lambda x: np.log(x))"
   ]
  },
  {
   "cell_type": "code",
   "execution_count": null,
   "metadata": {},
   "outputs": [],
   "source": [
    "df_mean_normalized.tail()"
   ]
  },
  {
   "cell_type": "code",
   "execution_count": null,
   "metadata": {},
   "outputs": [],
   "source": [
    "fig, ax = plt.subplots(figsize = (10,10))\n",
    "sns.lineplot(data=df_mean_normalized, ax=ax)\n",
    "ax.set_xlim(0,360)\n",
    "ax.set_ylim(3,4.8)\n",
    "ax.invert_xaxis()\n",
    "plt.show()"
   ]
  }
 ],
 "metadata": {
  "kernelspec": {
   "display_name": ".venv",
   "language": "python",
   "name": "python3"
  },
  "language_info": {
   "codemirror_mode": {
    "name": "ipython",
    "version": 3
   },
   "file_extension": ".py",
   "mimetype": "text/x-python",
   "name": "python",
   "nbconvert_exporter": "python",
   "pygments_lexer": "ipython3",
   "version": "3.9.8"
  },
  "orig_nbformat": 4,
  "vscode": {
   "interpreter": {
    "hash": "ff0d5525b38b6ff3ec7fc4f4fbd55809484b58e1350c0c6276fd185840225900"
   }
  }
 },
 "nbformat": 4,
 "nbformat_minor": 2
}
