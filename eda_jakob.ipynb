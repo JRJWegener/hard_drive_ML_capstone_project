{
 "cells": [
  {
   "cell_type": "code",
   "execution_count": null,
   "metadata": {},
   "outputs": [],
   "source": [
    "import polars as pl\n",
    "import pandas as pd\n",
    "import preprocessing.feature_engineering as fe\n",
    "import matplotlib.pyplot as plt\n",
    "import seaborn as sns"
   ]
  },
  {
   "cell_type": "code",
   "execution_count": null,
   "metadata": {},
   "outputs": [],
   "source": [
    "df_selected = pl.read_parquet(\"./data/2022_data_selected.parquet\")"
   ]
  },
  {
   "cell_type": "code",
   "execution_count": null,
   "metadata": {},
   "outputs": [],
   "source": [
    "df_failure = df_selected.filter(pl.col(\"failure\") == 1)"
   ]
  },
  {
   "cell_type": "code",
   "execution_count": null,
   "metadata": {},
   "outputs": [],
   "source": [
    "df_failure"
   ]
  },
  {
   "cell_type": "code",
   "execution_count": null,
   "metadata": {},
   "outputs": [],
   "source": [
    "df_all_modelcounts = df_failure['model'].value_counts()\n",
    "df_all_modelcounts.sort(by=\"counts\", descending=True)"
   ]
  },
  {
   "cell_type": "code",
   "execution_count": null,
   "metadata": {},
   "outputs": [],
   "source": [
    "df_ST4000DM000 = df_failure.filter((pl.col(\"model\") == \"ST4000DM000\"))"
   ]
  },
  {
   "cell_type": "code",
   "execution_count": null,
   "metadata": {},
   "outputs": [],
   "source": [
    "failed_st4000 = df_ST4000DM000.select(\n",
    "    [\n",
    "        \n",
    "        pl.col(\"serial_number\").unique().alias(\"serial_number\"),\n",
    "    ])"
   ]
  },
  {
   "cell_type": "code",
   "execution_count": null,
   "metadata": {},
   "outputs": [],
   "source": [
    "df_ZJV3BYAY = df_selected.filter(pl.col(\"serial_number\")==\"ZJV3BYAY\")"
   ]
  },
  {
   "cell_type": "code",
   "execution_count": null,
   "metadata": {},
   "outputs": [],
   "source": [
    "df_sorted1 = df_ZJV3BYAY.sort(by='date')"
   ]
  },
  {
   "attachments": {},
   "cell_type": "markdown",
   "metadata": {},
   "source": [
    "smart statistics for hard drive with serial number ZJV3BYAY"
   ]
  },
  {
   "cell_type": "code",
   "execution_count": null,
   "metadata": {},
   "outputs": [],
   "source": [
    "fig, ax = plt.subplots(32, figsize=(20,40))\n",
    "for i in range(32):\n",
    "    graph1 = sns.lineplot(data=df_sorted1, x='date', y=df_sorted1.columns[i+5], ax=ax[i])\n",
    "\n",
    "plt.savefig(\"./images/ZJV3BYAY.png\")"
   ]
  },
  {
   "cell_type": "code",
   "execution_count": null,
   "metadata": {},
   "outputs": [],
   "source": [
    "df_S3010LL5 = df_selected.filter(pl.col(\"serial_number\")==\"S3010LL5\")\n",
    "df_sorted2 = df_S3010LL5.sort(by='date')\n",
    "\n"
   ]
  },
  {
   "attachments": {},
   "cell_type": "markdown",
   "metadata": {},
   "source": [
    "smart statistics for hard drive with serial number S3010LL5\n"
   ]
  },
  {
   "cell_type": "code",
   "execution_count": null,
   "metadata": {},
   "outputs": [],
   "source": [
    "fig, ax = plt.subplots(32, figsize=(20,40))\n",
    "for i in range(32):\n",
    "    graph1 = sns.lineplot(data=df_sorted2, x='date', y=df_sorted2.columns[i+5], ax=ax[i])\n",
    "\n",
    "plt.savefig(\"./images/S3010LL5.png\")"
   ]
  },
  {
   "attachments": {},
   "cell_type": "markdown",
   "metadata": {},
   "source": [
    "* drop normalized values\n",
    "* base model (from backblaze): \n",
    "    if smart 5 > 0 OR smart 187 > 0 OR smart 188 > 0 OR smart 197 > 0 OR smart 198 >0:\n",
    "        hard drive fails\n",
    "    else: not failing"
   ]
  },
  {
   "cell_type": "code",
   "execution_count": null,
   "metadata": {},
   "outputs": [],
   "source": [
    "list(failed_st4000)[0][:]"
   ]
  },
  {
   "cell_type": "code",
   "execution_count": null,
   "metadata": {},
   "outputs": [],
   "source": [
    "failed_st4000_list = failed_st4000.to_series().to_list()"
   ]
  },
  {
   "cell_type": "code",
   "execution_count": null,
   "metadata": {},
   "outputs": [],
   "source": [
    "#hard drive model ST4000DM000 thats not failed: hard drives that failed failed_st4000\n",
    "df_nofailure = df_selected.filter((pl.col(\"model\") == \"ST4000DM000\") & ~ pl.col(\"serial_number\").is_in(failed_st4000_list))"
   ]
  },
  {
   "cell_type": "code",
   "execution_count": null,
   "metadata": {},
   "outputs": [],
   "source": [
    "df_nofailure"
   ]
  },
  {
   "cell_type": "code",
   "execution_count": null,
   "metadata": {},
   "outputs": [],
   "source": [
    "df_S300YQM3 = df_selected.filter(pl.col(\"serial_number\")==\"S300YQM3\")\n",
    "df_sorted3 = df_S300YQM3.sort(by='date')\n",
    "\n",
    "\n",
    "#smart statistics for hard drive with serial number S3010LL5\n",
    "\n",
    "fig, ax = plt.subplots(32, figsize=(20,40))\n",
    "for i in range(32):\n",
    "    graph1 = sns.lineplot(data=df_sorted3, x='date', y=df_sorted3.columns[i+5], ax=ax[i])\n",
    "\n",
    "plt.savefig(\"./images/S300YQM3.png\")"
   ]
  },
  {
   "attachments": {},
   "cell_type": "markdown",
   "metadata": {},
   "source": [
    "* drop normalized values\n",
    "* base model (from backblaze): \n",
    "    if smart 5 > 0 OR smart 187 > 0 OR smart 188 > 0 OR smart 197 > 0 OR smart 198 >0:\n",
    "        hard drive fails\n",
    "    else: not failing"
   ]
  },
  {
   "attachments": {},
   "cell_type": "markdown",
   "metadata": {},
   "source": [
    "fail_pred = 0\n",
    "counter = 0\n",
    "first_row = 0\n",
    "values_last_row\n",
    "for row in df:\n",
    "    save values for smart statistics for change calculation\n",
    "    if not first_row == 0:\n",
    "        change = current_values - valuest_last_row\n",
    "        if change > threshold_change:\n",
    "            counter += 1\n",
    "    if counter > threshold_number_ofsmart:\n",
    "    \n",
    "\n",
    "        \n"
   ]
  },
  {
   "cell_type": "code",
   "execution_count": null,
   "metadata": {},
   "outputs": [],
   "source": [
    "def basemodel(df, threshold):\n",
    "    df = df.to_pandas()\n",
    "    fail_pred = []\n",
    "    for index, row in df.iterrows():\n",
    "        counter = 0\n",
    "        if row[\"smart_5_raw\"] > 0:\n",
    "            counter +=1\n",
    "        if row[\"smart_187_raw\"] > 0:\n",
    "            counter +=1\n",
    "        if row[\"smart_188_raw\"] > 0:\n",
    "            counter +=1\n",
    "        if row[\"smart_197_raw\"] > 0:\n",
    "            counter +=1           \n",
    "        if row[\"smart_198_raw\"] > 0:\n",
    "            counter +=1\n",
    "        if counter >= threshold:\n",
    "            fail_pred.append(1)\n",
    "        else:\n",
    "            fail_pred.append(0)\n",
    "    return fail_pred"
   ]
  },
  {
   "attachments": {},
   "cell_type": "markdown",
   "metadata": {},
   "source": [
    "test basemodel S3010LL5"
   ]
  },
  {
   "cell_type": "code",
   "execution_count": null,
   "metadata": {},
   "outputs": [],
   "source": [
    "for row in df_sorted2:"
   ]
  },
  {
   "cell_type": "code",
   "execution_count": null,
   "metadata": {},
   "outputs": [],
   "source": [
    "y_pred_S3010LL5_t2 = basemodel(df_sorted2, 2)"
   ]
  },
  {
   "cell_type": "code",
   "execution_count": null,
   "metadata": {},
   "outputs": [],
   "source": [
    "y_pred_S3010LL5_t2"
   ]
  },
  {
   "cell_type": "code",
   "execution_count": null,
   "metadata": {},
   "outputs": [],
   "source": [
    "y_pred_S3010LL5_t3 = basemodel(df_sorted2, 3)"
   ]
  },
  {
   "cell_type": "code",
   "execution_count": null,
   "metadata": {},
   "outputs": [],
   "source": [
    "y_pred_S3010LL5_t3"
   ]
  },
  {
   "cell_type": "code",
   "execution_count": null,
   "metadata": {},
   "outputs": [],
   "source": [
    "y_pred_S3010LL5_t4 = basemodel(df_sorted2, 4)\n",
    "y_pred_S3010LL5_t4"
   ]
  },
  {
   "cell_type": "code",
   "execution_count": null,
   "metadata": {},
   "outputs": [],
   "source": [
    "y_pred_S3010LL5_t2"
   ]
  },
  {
   "attachments": {},
   "cell_type": "markdown",
   "metadata": {},
   "source": [
    "test basemodel ZJV3BYAY"
   ]
  },
  {
   "cell_type": "code",
   "execution_count": null,
   "metadata": {},
   "outputs": [],
   "source": [
    "y_pred_ZJV3BYAY_t2 = basemodel(df_sorted1, 2)\n",
    "y_pred_ZJV3BYAY_t2\n"
   ]
  },
  {
   "cell_type": "code",
   "execution_count": null,
   "metadata": {},
   "outputs": [],
   "source": [
    "y_pred_ZJV3BYAY_t3 = basemodel(df_sorted1, 3)\n",
    "y_pred_ZJV3BYAY_t3\n"
   ]
  },
  {
   "cell_type": "code",
   "execution_count": null,
   "metadata": {},
   "outputs": [],
   "source": [
    "df_sorted1.head(10)"
   ]
  },
  {
   "cell_type": "code",
   "execution_count": null,
   "metadata": {},
   "outputs": [],
   "source": [
    "df_sorted1.tail(10)"
   ]
  },
  {
   "cell_type": "code",
   "execution_count": null,
   "metadata": {},
   "outputs": [],
   "source": [
    "df_st4000 = df_selected.filter((pl.col(\"model\") == \"ST4000DM000\"))"
   ]
  },
  {
   "cell_type": "code",
   "execution_count": null,
   "metadata": {},
   "outputs": [],
   "source": [
    "st400_dict = fe.create_faildate_dict(df_st4000)"
   ]
  },
  {
   "cell_type": "code",
   "execution_count": null,
   "metadata": {},
   "outputs": [],
   "source": [
    "df_st4000 = fe.create_faildate(df_st4000, st400_dict)"
   ]
  },
  {
   "cell_type": "code",
   "execution_count": null,
   "metadata": {},
   "outputs": [],
   "source": [
    "df_st4000 = fe.create_target_classification(df_st4000)\n",
    "\n"
   ]
  },
  {
   "cell_type": "code",
   "execution_count": null,
   "metadata": {},
   "outputs": [],
   "source": [
    "df_st4000.write_parquet(\"./data/2022_data_ST4000DM000.parquet\")"
   ]
  },
  {
   "attachments": {},
   "cell_type": "markdown",
   "metadata": {},
   "source": [
    "basemodel2:\n",
    " logistic regression of smart_5_raw, smart_187_raw, smart_188_raw, smart_198_raw, smart_198_raw with failing_in14days as target"
   ]
  }
 ],
 "metadata": {
  "kernelspec": {
   "display_name": ".venv",
   "language": "python",
   "name": "python3"
  },
  "language_info": {
   "codemirror_mode": {
    "name": "ipython",
    "version": 3
   },
   "file_extension": ".py",
   "mimetype": "text/x-python",
   "name": "python",
   "nbconvert_exporter": "python",
   "pygments_lexer": "ipython3",
   "version": "3.9.8 (main, Jan  9 2023, 15:26:45) \n[Clang 14.0.0 (clang-1400.0.29.202)]"
  },
  "orig_nbformat": 4,
  "vscode": {
   "interpreter": {
    "hash": "b4b99188e5364a379ec3ffcc2bc95e2fbc26291e34f70475c442499b88ef0e48"
   }
  }
 },
 "nbformat": 4,
 "nbformat_minor": 2
}
