{
 "cells": [
  {
   "cell_type": "code",
   "execution_count": null,
   "metadata": {},
   "outputs": [],
   "source": [
    "import polars as pl\n",
    "import pandas as pd\n",
    "import preprocessing.feature_engineering as fe\n",
    "import matplotlib.pyplot as plt\n",
    "import seaborn as sns\n",
    "import mplcyberpunk\n",
    "import re\n",
    "\n",
    "plt.style.use(\"cyberpunk\")\n",
    "plt.style.use('dark_background')"
   ]
  },
  {
   "cell_type": "code",
   "execution_count": null,
   "metadata": {},
   "outputs": [],
   "source": [
    "df_selected = pl.read_parquet(\"./data/2022_data_selected.parquet\")"
   ]
  },
  {
   "cell_type": "code",
   "execution_count": null,
   "metadata": {},
   "outputs": [],
   "source": [
    "df_failure = df_selected.filter(pl.col(\"failure\") == 1)"
   ]
  },
  {
   "cell_type": "code",
   "execution_count": null,
   "metadata": {},
   "outputs": [],
   "source": [
    "df_failure"
   ]
  },
  {
   "cell_type": "code",
   "execution_count": null,
   "metadata": {},
   "outputs": [],
   "source": [
    "df_all_modelcounts = df_failure['model'].value_counts()\n",
    "df_all_modelcounts.sort(by=\"counts\", descending=True)"
   ]
  },
  {
   "cell_type": "code",
   "execution_count": null,
   "metadata": {},
   "outputs": [],
   "source": [
    "df_ST4000DM000 = df_failure.filter((pl.col(\"model\") == \"ST4000DM000\"))"
   ]
  },
  {
   "cell_type": "code",
   "execution_count": null,
   "metadata": {},
   "outputs": [],
   "source": [
    "failed_st4000 = df_ST4000DM000.select(\n",
    "    [\n",
    "        \n",
    "        pl.col(\"serial_number\").unique().alias(\"serial_number\"),\n",
    "    ])"
   ]
  },
  {
   "cell_type": "code",
   "execution_count": null,
   "metadata": {},
   "outputs": [],
   "source": [
    "df_ZJV3BYAY = df_selected.filter(pl.col(\"serial_number\")==\"ZJV3BYAY\")"
   ]
  },
  {
   "cell_type": "code",
   "execution_count": null,
   "metadata": {},
   "outputs": [],
   "source": [
    "df_sorted1 = df_ZJV3BYAY.sort(by='date')"
   ]
  },
  {
   "attachments": {},
   "cell_type": "markdown",
   "metadata": {},
   "source": [
    "smart statistics for hard drive with serial number ZJV3BYAY"
   ]
  },
  {
   "cell_type": "code",
   "execution_count": null,
   "metadata": {},
   "outputs": [],
   "source": [
    "fig, ax = plt.subplots(32, figsize=(20,40))\n",
    "for i in range(32):\n",
    "    graph1 = sns.lineplot(data=df_sorted1, x='date', y=df_sorted1.columns[i+5], ax=ax[i])\n",
    "\n",
    "plt.savefig(\"./images/ZJV3BYAY.png\")"
   ]
  },
  {
   "cell_type": "code",
   "execution_count": null,
   "metadata": {},
   "outputs": [],
   "source": [
    "df_S3010LL5 = df_selected.filter(pl.col(\"serial_number\")==\"S3010LL5\")\n",
    "df_sorted2 = df_S3010LL5.sort(by='date')\n",
    "\n"
   ]
  },
  {
   "attachments": {},
   "cell_type": "markdown",
   "metadata": {},
   "source": [
    "smart statistics for hard drive with serial number S3010LL5\n"
   ]
  },
  {
   "cell_type": "code",
   "execution_count": null,
   "metadata": {},
   "outputs": [],
   "source": [
    "fig, ax = plt.subplots(32, figsize=(20,40))\n",
    "for i in range(32):\n",
    "    graph1 = sns.lineplot(data=df_sorted2, x='date', y=df_sorted2.columns[i+5], ax=ax[i])\n",
    "\n",
    "plt.savefig(\"./images/S3010LL5.png\")"
   ]
  },
  {
   "cell_type": "code",
   "execution_count": null,
   "metadata": {},
   "outputs": [],
   "source": [
    "list(failed_st4000)[0][:]"
   ]
  },
  {
   "cell_type": "code",
   "execution_count": null,
   "metadata": {},
   "outputs": [],
   "source": [
    "failed_st4000_list = failed_st4000.to_series().to_list()"
   ]
  },
  {
   "cell_type": "code",
   "execution_count": null,
   "metadata": {},
   "outputs": [],
   "source": [
    "#hard drive model ST4000DM000 thats not failed: hard drives that failed failed_st4000\n",
    "df_nofailure = df_selected.filter((pl.col(\"model\") == \"ST4000DM000\") & ~ pl.col(\"serial_number\").is_in(failed_st4000_list))"
   ]
  },
  {
   "cell_type": "code",
   "execution_count": null,
   "metadata": {},
   "outputs": [],
   "source": [
    "df_nofailure"
   ]
  },
  {
   "cell_type": "code",
   "execution_count": null,
   "metadata": {},
   "outputs": [],
   "source": [
    "df_S300YQM3 = df_selected.filter(pl.col(\"serial_number\")==\"S300YQM3\")\n",
    "df_sorted3 = df_S300YQM3.sort(by='date')\n",
    "\n",
    "\n",
    "#smart statistics for hard drive with serial number S3010LL5\n",
    "\n",
    "fig, ax = plt.subplots(32, figsize=(20,40))\n",
    "for i in range(32):\n",
    "    graph1 = sns.lineplot(data=df_sorted3, x='date', y=df_sorted3.columns[i+5], ax=ax[i])\n",
    "\n",
    "plt.savefig(\"./images/S300YQM3.png\")"
   ]
  },
  {
   "cell_type": "code",
   "execution_count": null,
   "metadata": {},
   "outputs": [],
   "source": [
    "df_st4000 = df_selected.filter((pl.col(\"model\") == \"ST4000DM000\"))"
   ]
  },
  {
   "cell_type": "code",
   "execution_count": null,
   "metadata": {},
   "outputs": [],
   "source": [
    "st400_dict = fe.create_faildate_dict(df_st4000)"
   ]
  },
  {
   "cell_type": "code",
   "execution_count": null,
   "metadata": {},
   "outputs": [],
   "source": [
    "df_st4000 = fe.create_faildate(df_st4000, st400_dict)"
   ]
  },
  {
   "cell_type": "code",
   "execution_count": null,
   "metadata": {},
   "outputs": [],
   "source": [
    "df_st4000 = fe.create_target_classification(df_st4000)\n",
    "\n"
   ]
  },
  {
   "cell_type": "code",
   "execution_count": null,
   "metadata": {},
   "outputs": [],
   "source": [
    "df_st4000.write_parquet(\"./data/2022_data_ST4000DM000.parquet\")"
   ]
  },
  {
   "attachments": {},
   "cell_type": "markdown",
   "metadata": {},
   "source": [
    "### failure rate per hard drive model"
   ]
  },
  {
   "cell_type": "code",
   "execution_count": null,
   "metadata": {},
   "outputs": [],
   "source": [
    "df_unique_model = df_selected.select([\"serial_number\", \"model\"]).unique()"
   ]
  },
  {
   "cell_type": "code",
   "execution_count": null,
   "metadata": {},
   "outputs": [],
   "source": [
    "df_unique_grouped = df_unique_model.groupby(\"model\").agg(pl.col(\"serial_number\").count())"
   ]
  },
  {
   "cell_type": "code",
   "execution_count": null,
   "metadata": {},
   "outputs": [],
   "source": [
    "df_unique_grouped"
   ]
  },
  {
   "cell_type": "code",
   "execution_count": null,
   "metadata": {},
   "outputs": [],
   "source": [
    "df_unique_sorted = df_unique_grouped.sort(by='serial_number', descending=True)\n",
    "df_unique_sorted = df_unique_sorted.to_pandas()"
   ]
  },
  {
   "cell_type": "code",
   "execution_count": null,
   "metadata": {},
   "outputs": [],
   "source": [
    "df_unique_sorted"
   ]
  },
  {
   "cell_type": "code",
   "execution_count": null,
   "metadata": {},
   "outputs": [],
   "source": [
    "sns.barplot(data=df_unique_sorted, x=\"serial_number\" ,y='model',color=\"blue\")\n",
    "sns.set(rc={'figure.figsize':(11.7,12.27)})\n",
    "plt.title(\"number of hard drives per model\")\n",
    "plt.xlabel(\"number of hard drives\")\n",
    "plt.yticks();"
   ]
  },
  {
   "cell_type": "code",
   "execution_count": null,
   "metadata": {},
   "outputs": [],
   "source": [
    "df_failure = df_selected.filter(pl.col(\"failure\") == 1)"
   ]
  },
  {
   "cell_type": "code",
   "execution_count": null,
   "metadata": {},
   "outputs": [],
   "source": [
    "df_failure_sorted = df_failure['model'].value_counts().sort(by='counts', descending=True)\n",
    "df_failure_sorted =df_failure_sorted.to_pandas()"
   ]
  },
  {
   "cell_type": "code",
   "execution_count": null,
   "metadata": {},
   "outputs": [],
   "source": [
    "sns.barplot(data=df_failure_sorted, x=\"counts\" ,y='model',color=\"blue\")\n",
    "sns.set(rc={'figure.figsize':(11.7,12.27)})\n",
    "plt.yticks();"
   ]
  },
  {
   "attachments": {},
   "cell_type": "markdown",
   "metadata": {},
   "source": [
    "### failure rate per model"
   ]
  },
  {
   "cell_type": "code",
   "execution_count": null,
   "metadata": {},
   "outputs": [],
   "source": [
    "df_fail_per_model = pd.concat([df_failure_sorted, df_unique_sorted], keys=\"model\", axis=1)"
   ]
  },
  {
   "cell_type": "code",
   "execution_count": null,
   "metadata": {},
   "outputs": [],
   "source": [
    "df_fail_per_model = df_unique_sorted.join(df_failure_sorted.set_index(\"model\"), on = \"model\")"
   ]
  },
  {
   "cell_type": "code",
   "execution_count": null,
   "metadata": {},
   "outputs": [],
   "source": [
    "df_fail_per_model.head(10)"
   ]
  },
  {
   "cell_type": "code",
   "execution_count": null,
   "metadata": {},
   "outputs": [],
   "source": [
    "df_fail_per_model[\"percentage\"] = (100/ df_fail_per_model[\"serial_number\"])* df_fail_per_model[\"counts\"]"
   ]
  },
  {
   "cell_type": "code",
   "execution_count": null,
   "metadata": {},
   "outputs": [],
   "source": [
    "df_fail_per_model = df_fail_per_model.dropna()"
   ]
  },
  {
   "cell_type": "code",
   "execution_count": null,
   "metadata": {},
   "outputs": [],
   "source": [
    "df_fail_per_model = df_fail_per_model.sort_values(\"percentage\", ascending=False)"
   ]
  },
  {
   "cell_type": "code",
   "execution_count": null,
   "metadata": {},
   "outputs": [],
   "source": [
    "df_fail_per_model.head(2)"
   ]
  },
  {
   "attachments": {},
   "cell_type": "markdown",
   "metadata": {},
   "source": [
    "create column with manufacturer"
   ]
  },
  {
   "cell_type": "code",
   "execution_count": null,
   "metadata": {},
   "outputs": [],
   "source": [
    "manu_dict = {\"Toshiba\" : [\"TOSHIBA\"], \n",
    "            \"Seagate\" : [\"ST\", \"Seagate\"],\n",
    "            \"HGST\" : [\"HGST\"],\n",
    "            \"Western Digital\" : [\"WDC\"],\n",
    "            \"Hitachi\" : [\"Hitachi\"],\n",
    "            \"Micron\":[\"MTFDD\"],\n",
    "            \"Crucial\":[\"CT\"]}"
   ]
  },
  {
   "cell_type": "code",
   "execution_count": null,
   "metadata": {},
   "outputs": [],
   "source": [
    "toshiba_ex = \"TOSHIBA\"\n",
    "seagate_ex = [\"ST\", \"Seagate\"]\n",
    "hgst_ex = \"HGST\"\n",
    "wd_ex = \"WDC\"\n",
    "hitachi_ex = \"Hitachi\"\n",
    "micron_ex = \"MTFDD\"\n",
    "crucial_ex = \"CT\""
   ]
  },
  {
   "cell_type": "code",
   "execution_count": null,
   "metadata": {},
   "outputs": [],
   "source": [
    "for key, value in manu_dict.items():\n",
    "    print(key, value)"
   ]
  },
  {
   "cell_type": "code",
   "execution_count": null,
   "metadata": {},
   "outputs": [],
   "source": [
    "def re_function(str_var):\n",
    "    for key, values in manu_dict.items():\n",
    "        for value in values:\n",
    "            if re.match(value, str_var):\n",
    "                return key\n"
   ]
  },
  {
   "cell_type": "code",
   "execution_count": null,
   "metadata": {},
   "outputs": [],
   "source": [
    "df_fail_per_model[\"manufacturer\"] = df_fail_per_model[\"model\"].apply(lambda x: re_function(x))"
   ]
  },
  {
   "cell_type": "code",
   "execution_count": null,
   "metadata": {},
   "outputs": [],
   "source": [
    "df_fail_per_model"
   ]
  },
  {
   "cell_type": "code",
   "execution_count": null,
   "metadata": {},
   "outputs": [],
   "source": [
    "ax = sns.barplot(data=df_fail_per_model, x=\"percentage\", y=\"model\", hue=\"manufacturer\", dodge=False, palette=\"tab20\" )\n",
    "#plt.plot([], [], ' ', label=\"298 total Number of hard drives\")\n",
    "for container in ax.containers:\n",
    "    ax.bar_label(container=container, labels = df_fail_per_model[\"serial_number\"]);\n",
    "#ax.text\n",
    "mplcyberpunk.add_glow_effects()\n"
   ]
  },
  {
   "cell_type": "code",
   "execution_count": null,
   "metadata": {},
   "outputs": [],
   "source": [
    "sns.light_palette(\"\", as_cmap=True)"
   ]
  },
  {
   "cell_type": "code",
   "execution_count": null,
   "metadata": {},
   "outputs": [],
   "source": [
    "colors = [\n",
    "    '#08F7FE',  # teal/cyan\n",
    "    '#FF69B4',  # pink\n",
    "    '#FFFF00',  # yellow\n",
    "    '#00ff41', # matrix green\n",
    "    \"#584efd\"\n",
    "]"
   ]
  },
  {
   "cell_type": "code",
   "execution_count": null,
   "metadata": {},
   "outputs": [],
   "source": [
    "ax = sns.barplot(data=df_fail_per_model[df_fail_per_model[\"serial_number\"]>= 100], x=\"percentage\", y=\"model\", hue=\"manufacturer\", dodge=False,palette= colors)\n",
    "#plt.plot([], [], ' ', label=\"298 total Number of hard drives\")\n",
    "for container in ax.containers:\n",
    "    ax.bar_label(container=container, labels = df_fail_per_model[df_fail_per_model[\"serial_number\"]>= 100][\"serial_number\"]);\n",
    "#ax.text\n"
   ]
  }
 ],
 "metadata": {
  "kernelspec": {
   "display_name": ".venv",
   "language": "python",
   "name": "python3"
  },
  "language_info": {
   "codemirror_mode": {
    "name": "ipython",
    "version": 3
   },
   "file_extension": ".py",
   "mimetype": "text/x-python",
   "name": "python",
   "nbconvert_exporter": "python",
   "pygments_lexer": "ipython3",
   "version": "3.9.8"
  },
  "orig_nbformat": 4,
  "vscode": {
   "interpreter": {
    "hash": "b4b99188e5364a379ec3ffcc2bc95e2fbc26291e34f70475c442499b88ef0e48"
   }
  }
 },
 "nbformat": 4,
 "nbformat_minor": 2
}
