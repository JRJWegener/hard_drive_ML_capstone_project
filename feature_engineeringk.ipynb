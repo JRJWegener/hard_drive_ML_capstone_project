{
 "cells": [
  {
   "attachments": {},
   "cell_type": "markdown",
   "metadata": {},
   "source": [
    "import statements"
   ]
  },
  {
   "cell_type": "code",
   "execution_count": 2,
   "metadata": {},
   "outputs": [],
   "source": [
    "import polars as pl\n",
    "import pandas as pd\n",
    "import datetime as dt\n",
    "import seaborn as sns"
   ]
  },
  {
   "attachments": {},
   "cell_type": "markdown",
   "metadata": {},
   "source": [
    "import data"
   ]
  },
  {
   "cell_type": "code",
   "execution_count": 3,
   "metadata": {},
   "outputs": [],
   "source": [
    "\n",
    "\n",
    "import preprocessing.feature_engineering as fe"
   ]
  },
  {
   "cell_type": "code",
   "execution_count": 4,
   "metadata": {},
   "outputs": [],
   "source": [
    "df_all = pl.read_parquet('./data/2022_data_selected.parquet')"
   ]
  },
  {
   "cell_type": "code",
   "execution_count": 5,
   "metadata": {},
   "outputs": [],
   "source": [
    "fail_dict= fe.create_faildate_dict(df_all)"
   ]
  },
  {
   "cell_type": "code",
   "execution_count": null,
   "metadata": {},
   "outputs": [],
   "source": [
    "#df_all.shape"
   ]
  },
  {
   "cell_type": "code",
   "execution_count": null,
   "metadata": {},
   "outputs": [],
   "source": [
    "#df_faildates = df_all.filter(pl.col(\"failure\") == 1)"
   ]
  },
  {
   "cell_type": "code",
   "execution_count": null,
   "metadata": {},
   "outputs": [],
   "source": [
    "#df_faildates = df_faildates.to_pandas()"
   ]
  },
  {
   "cell_type": "code",
   "execution_count": null,
   "metadata": {},
   "outputs": [],
   "source": [
    "#df_faildates"
   ]
  },
  {
   "cell_type": "code",
   "execution_count": 6,
   "metadata": {},
   "outputs": [],
   "source": [
    "creation_date=fe.create_faildate(df_all,fail_dict)"
   ]
  },
  {
   "cell_type": "code",
   "execution_count": 7,
   "metadata": {},
   "outputs": [
    {
     "data": {
      "text/html": [
       "<div>\n",
       "<style>\n",
       ".pl-dataframe > thead > tr > th {\n",
       "  text-align: right;\n",
       "}\n",
       "</style>\n",
       "\n",
       "<table border=\"1\" class=\"dataframe pl-dataframe\">\n",
       "<small>shape: (5, 40)</small>\n",
       "<thead>\n",
       "<tr>\n",
       "<th>\n",
       "date\n",
       "</th>\n",
       "<th>\n",
       "serial_number\n",
       "</th>\n",
       "<th>\n",
       "model\n",
       "</th>\n",
       "<th>\n",
       "capacity_bytes\n",
       "</th>\n",
       "<th>\n",
       "failure\n",
       "</th>\n",
       "<th>\n",
       "smart_1_normalized\n",
       "</th>\n",
       "<th>\n",
       "smart_1_raw\n",
       "</th>\n",
       "<th>\n",
       "smart_3_normalized\n",
       "</th>\n",
       "<th>\n",
       "smart_3_raw\n",
       "</th>\n",
       "<th>\n",
       "smart_4_normalized\n",
       "</th>\n",
       "<th>\n",
       "smart_4_raw\n",
       "</th>\n",
       "<th>\n",
       "smart_5_normalized\n",
       "</th>\n",
       "<th>\n",
       "smart_5_raw\n",
       "</th>\n",
       "<th>\n",
       "smart_7_normalized\n",
       "</th>\n",
       "<th>\n",
       "smart_7_raw\n",
       "</th>\n",
       "<th>\n",
       "smart_9_normalized\n",
       "</th>\n",
       "<th>\n",
       "smart_9_raw\n",
       "</th>\n",
       "<th>\n",
       "smart_10_normalized\n",
       "</th>\n",
       "<th>\n",
       "smart_10_raw\n",
       "</th>\n",
       "<th>\n",
       "smart_12_normalized\n",
       "</th>\n",
       "<th>\n",
       "smart_12_raw\n",
       "</th>\n",
       "<th>\n",
       "smart_187_normalized\n",
       "</th>\n",
       "<th>\n",
       "smart_187_raw\n",
       "</th>\n",
       "<th>\n",
       "smart_188_normalized\n",
       "</th>\n",
       "<th>\n",
       "smart_188_raw\n",
       "</th>\n",
       "<th>\n",
       "smart_192_normalized\n",
       "</th>\n",
       "<th>\n",
       "smart_192_raw\n",
       "</th>\n",
       "<th>\n",
       "smart_193_normalized\n",
       "</th>\n",
       "<th>\n",
       "smart_193_raw\n",
       "</th>\n",
       "<th>\n",
       "smart_194_normalized\n",
       "</th>\n",
       "<th>\n",
       "smart_194_raw\n",
       "</th>\n",
       "<th>\n",
       "smart_197_normalized\n",
       "</th>\n",
       "<th>\n",
       "smart_197_raw\n",
       "</th>\n",
       "<th>\n",
       "smart_198_normalized\n",
       "</th>\n",
       "<th>\n",
       "smart_198_raw\n",
       "</th>\n",
       "<th>\n",
       "smart_199_normalized\n",
       "</th>\n",
       "<th>\n",
       "smart_199_raw\n",
       "</th>\n",
       "<th>\n",
       "faildate\n",
       "</th>\n",
       "<th>\n",
       "Time_till_failure\n",
       "</th>\n",
       "<th>\n",
       "failing_in14days\n",
       "</th>\n",
       "</tr>\n",
       "<tr>\n",
       "<td>\n",
       "date\n",
       "</td>\n",
       "<td>\n",
       "str\n",
       "</td>\n",
       "<td>\n",
       "str\n",
       "</td>\n",
       "<td>\n",
       "i64\n",
       "</td>\n",
       "<td>\n",
       "i64\n",
       "</td>\n",
       "<td>\n",
       "i64\n",
       "</td>\n",
       "<td>\n",
       "i64\n",
       "</td>\n",
       "<td>\n",
       "i64\n",
       "</td>\n",
       "<td>\n",
       "i64\n",
       "</td>\n",
       "<td>\n",
       "i64\n",
       "</td>\n",
       "<td>\n",
       "i64\n",
       "</td>\n",
       "<td>\n",
       "i64\n",
       "</td>\n",
       "<td>\n",
       "i64\n",
       "</td>\n",
       "<td>\n",
       "i64\n",
       "</td>\n",
       "<td>\n",
       "i64\n",
       "</td>\n",
       "<td>\n",
       "i64\n",
       "</td>\n",
       "<td>\n",
       "i64\n",
       "</td>\n",
       "<td>\n",
       "i64\n",
       "</td>\n",
       "<td>\n",
       "i64\n",
       "</td>\n",
       "<td>\n",
       "i64\n",
       "</td>\n",
       "<td>\n",
       "i64\n",
       "</td>\n",
       "<td>\n",
       "i64\n",
       "</td>\n",
       "<td>\n",
       "i64\n",
       "</td>\n",
       "<td>\n",
       "i64\n",
       "</td>\n",
       "<td>\n",
       "i64\n",
       "</td>\n",
       "<td>\n",
       "i64\n",
       "</td>\n",
       "<td>\n",
       "i64\n",
       "</td>\n",
       "<td>\n",
       "i64\n",
       "</td>\n",
       "<td>\n",
       "i64\n",
       "</td>\n",
       "<td>\n",
       "i64\n",
       "</td>\n",
       "<td>\n",
       "i64\n",
       "</td>\n",
       "<td>\n",
       "i64\n",
       "</td>\n",
       "<td>\n",
       "i64\n",
       "</td>\n",
       "<td>\n",
       "i64\n",
       "</td>\n",
       "<td>\n",
       "i64\n",
       "</td>\n",
       "<td>\n",
       "i64\n",
       "</td>\n",
       "<td>\n",
       "i64\n",
       "</td>\n",
       "<td>\n",
       "date\n",
       "</td>\n",
       "<td>\n",
       "duration[ms]\n",
       "</td>\n",
       "<td>\n",
       "i32\n",
       "</td>\n",
       "</tr>\n",
       "</thead>\n",
       "<tbody>\n",
       "<tr>\n",
       "<td>\n",
       "2022-03-11\n",
       "</td>\n",
       "<td>\n",
       "&quot;ZLW18P9K&quot;\n",
       "</td>\n",
       "<td>\n",
       "&quot;ST14000NM001G&quot;\n",
       "</td>\n",
       "<td>\n",
       "14000519643136\n",
       "</td>\n",
       "<td>\n",
       "0\n",
       "</td>\n",
       "<td>\n",
       "82\n",
       "</td>\n",
       "<td>\n",
       "145176856\n",
       "</td>\n",
       "<td>\n",
       "90\n",
       "</td>\n",
       "<td>\n",
       "0\n",
       "</td>\n",
       "<td>\n",
       "100\n",
       "</td>\n",
       "<td>\n",
       "12\n",
       "</td>\n",
       "<td>\n",
       "100\n",
       "</td>\n",
       "<td>\n",
       "0\n",
       "</td>\n",
       "<td>\n",
       "89\n",
       "</td>\n",
       "<td>\n",
       "788618680\n",
       "</td>\n",
       "<td>\n",
       "87\n",
       "</td>\n",
       "<td>\n",
       "11590\n",
       "</td>\n",
       "<td>\n",
       "100\n",
       "</td>\n",
       "<td>\n",
       "0\n",
       "</td>\n",
       "<td>\n",
       "100\n",
       "</td>\n",
       "<td>\n",
       "12\n",
       "</td>\n",
       "<td>\n",
       "100\n",
       "</td>\n",
       "<td>\n",
       "0\n",
       "</td>\n",
       "<td>\n",
       "100\n",
       "</td>\n",
       "<td>\n",
       "0\n",
       "</td>\n",
       "<td>\n",
       "100\n",
       "</td>\n",
       "<td>\n",
       "2\n",
       "</td>\n",
       "<td>\n",
       "99\n",
       "</td>\n",
       "<td>\n",
       "2710\n",
       "</td>\n",
       "<td>\n",
       "33\n",
       "</td>\n",
       "<td>\n",
       "33\n",
       "</td>\n",
       "<td>\n",
       "100\n",
       "</td>\n",
       "<td>\n",
       "0\n",
       "</td>\n",
       "<td>\n",
       "100\n",
       "</td>\n",
       "<td>\n",
       "0\n",
       "</td>\n",
       "<td>\n",
       "200\n",
       "</td>\n",
       "<td>\n",
       "0\n",
       "</td>\n",
       "<td>\n",
       "null\n",
       "</td>\n",
       "<td>\n",
       "null\n",
       "</td>\n",
       "<td>\n",
       "0\n",
       "</td>\n",
       "</tr>\n",
       "<tr>\n",
       "<td>\n",
       "2022-03-11\n",
       "</td>\n",
       "<td>\n",
       "&quot;ZLW0EGC7&quot;\n",
       "</td>\n",
       "<td>\n",
       "&quot;ST12000NM001G&quot;\n",
       "</td>\n",
       "<td>\n",
       "12000138625024\n",
       "</td>\n",
       "<td>\n",
       "0\n",
       "</td>\n",
       "<td>\n",
       "82\n",
       "</td>\n",
       "<td>\n",
       "151519352\n",
       "</td>\n",
       "<td>\n",
       "99\n",
       "</td>\n",
       "<td>\n",
       "0\n",
       "</td>\n",
       "<td>\n",
       "100\n",
       "</td>\n",
       "<td>\n",
       "1\n",
       "</td>\n",
       "<td>\n",
       "100\n",
       "</td>\n",
       "<td>\n",
       "0\n",
       "</td>\n",
       "<td>\n",
       "83\n",
       "</td>\n",
       "<td>\n",
       "178873441\n",
       "</td>\n",
       "<td>\n",
       "84\n",
       "</td>\n",
       "<td>\n",
       "14836\n",
       "</td>\n",
       "<td>\n",
       "100\n",
       "</td>\n",
       "<td>\n",
       "0\n",
       "</td>\n",
       "<td>\n",
       "100\n",
       "</td>\n",
       "<td>\n",
       "1\n",
       "</td>\n",
       "<td>\n",
       "100\n",
       "</td>\n",
       "<td>\n",
       "0\n",
       "</td>\n",
       "<td>\n",
       "100\n",
       "</td>\n",
       "<td>\n",
       "0\n",
       "</td>\n",
       "<td>\n",
       "100\n",
       "</td>\n",
       "<td>\n",
       "0\n",
       "</td>\n",
       "<td>\n",
       "99\n",
       "</td>\n",
       "<td>\n",
       "3909\n",
       "</td>\n",
       "<td>\n",
       "48\n",
       "</td>\n",
       "<td>\n",
       "48\n",
       "</td>\n",
       "<td>\n",
       "100\n",
       "</td>\n",
       "<td>\n",
       "0\n",
       "</td>\n",
       "<td>\n",
       "100\n",
       "</td>\n",
       "<td>\n",
       "0\n",
       "</td>\n",
       "<td>\n",
       "200\n",
       "</td>\n",
       "<td>\n",
       "0\n",
       "</td>\n",
       "<td>\n",
       "null\n",
       "</td>\n",
       "<td>\n",
       "null\n",
       "</td>\n",
       "<td>\n",
       "0\n",
       "</td>\n",
       "</tr>\n",
       "<tr>\n",
       "<td>\n",
       "2022-03-11\n",
       "</td>\n",
       "<td>\n",
       "&quot;ZA1FLE1P&quot;\n",
       "</td>\n",
       "<td>\n",
       "&quot;ST8000NM0055&quot;\n",
       "</td>\n",
       "<td>\n",
       "8001563222016\n",
       "</td>\n",
       "<td>\n",
       "0\n",
       "</td>\n",
       "<td>\n",
       "77\n",
       "</td>\n",
       "<td>\n",
       "49979496\n",
       "</td>\n",
       "<td>\n",
       "91\n",
       "</td>\n",
       "<td>\n",
       "0\n",
       "</td>\n",
       "<td>\n",
       "100\n",
       "</td>\n",
       "<td>\n",
       "7\n",
       "</td>\n",
       "<td>\n",
       "100\n",
       "</td>\n",
       "<td>\n",
       "0\n",
       "</td>\n",
       "<td>\n",
       "93\n",
       "</td>\n",
       "<td>\n",
       "2115550504\n",
       "</td>\n",
       "<td>\n",
       "84\n",
       "</td>\n",
       "<td>\n",
       "14448\n",
       "</td>\n",
       "<td>\n",
       "100\n",
       "</td>\n",
       "<td>\n",
       "0\n",
       "</td>\n",
       "<td>\n",
       "100\n",
       "</td>\n",
       "<td>\n",
       "7\n",
       "</td>\n",
       "<td>\n",
       "100\n",
       "</td>\n",
       "<td>\n",
       "0\n",
       "</td>\n",
       "<td>\n",
       "100\n",
       "</td>\n",
       "<td>\n",
       "0\n",
       "</td>\n",
       "<td>\n",
       "100\n",
       "</td>\n",
       "<td>\n",
       "121\n",
       "</td>\n",
       "<td>\n",
       "100\n",
       "</td>\n",
       "<td>\n",
       "764\n",
       "</td>\n",
       "<td>\n",
       "38\n",
       "</td>\n",
       "<td>\n",
       "38\n",
       "</td>\n",
       "<td>\n",
       "100\n",
       "</td>\n",
       "<td>\n",
       "0\n",
       "</td>\n",
       "<td>\n",
       "100\n",
       "</td>\n",
       "<td>\n",
       "0\n",
       "</td>\n",
       "<td>\n",
       "200\n",
       "</td>\n",
       "<td>\n",
       "0\n",
       "</td>\n",
       "<td>\n",
       "null\n",
       "</td>\n",
       "<td>\n",
       "null\n",
       "</td>\n",
       "<td>\n",
       "0\n",
       "</td>\n",
       "</tr>\n",
       "<tr>\n",
       "<td>\n",
       "2022-03-11\n",
       "</td>\n",
       "<td>\n",
       "&quot;ZA16NQJR&quot;\n",
       "</td>\n",
       "<td>\n",
       "&quot;ST8000NM0055&quot;\n",
       "</td>\n",
       "<td>\n",
       "8001563222016\n",
       "</td>\n",
       "<td>\n",
       "0\n",
       "</td>\n",
       "<td>\n",
       "74\n",
       "</td>\n",
       "<td>\n",
       "27873200\n",
       "</td>\n",
       "<td>\n",
       "89\n",
       "</td>\n",
       "<td>\n",
       "0\n",
       "</td>\n",
       "<td>\n",
       "100\n",
       "</td>\n",
       "<td>\n",
       "10\n",
       "</td>\n",
       "<td>\n",
       "100\n",
       "</td>\n",
       "<td>\n",
       "0\n",
       "</td>\n",
       "<td>\n",
       "94\n",
       "</td>\n",
       "<td>\n",
       "2634135447\n",
       "</td>\n",
       "<td>\n",
       "52\n",
       "</td>\n",
       "<td>\n",
       "42621\n",
       "</td>\n",
       "<td>\n",
       "100\n",
       "</td>\n",
       "<td>\n",
       "0\n",
       "</td>\n",
       "<td>\n",
       "100\n",
       "</td>\n",
       "<td>\n",
       "10\n",
       "</td>\n",
       "<td>\n",
       "100\n",
       "</td>\n",
       "<td>\n",
       "0\n",
       "</td>\n",
       "<td>\n",
       "100\n",
       "</td>\n",
       "<td>\n",
       "0\n",
       "</td>\n",
       "<td>\n",
       "100\n",
       "</td>\n",
       "<td>\n",
       "16\n",
       "</td>\n",
       "<td>\n",
       "68\n",
       "</td>\n",
       "<td>\n",
       "64822\n",
       "</td>\n",
       "<td>\n",
       "34\n",
       "</td>\n",
       "<td>\n",
       "34\n",
       "</td>\n",
       "<td>\n",
       "100\n",
       "</td>\n",
       "<td>\n",
       "0\n",
       "</td>\n",
       "<td>\n",
       "100\n",
       "</td>\n",
       "<td>\n",
       "0\n",
       "</td>\n",
       "<td>\n",
       "200\n",
       "</td>\n",
       "<td>\n",
       "0\n",
       "</td>\n",
       "<td>\n",
       "null\n",
       "</td>\n",
       "<td>\n",
       "null\n",
       "</td>\n",
       "<td>\n",
       "0\n",
       "</td>\n",
       "</tr>\n",
       "<tr>\n",
       "<td>\n",
       "2022-03-11\n",
       "</td>\n",
       "<td>\n",
       "&quot;1050A084F97G&quot;\n",
       "</td>\n",
       "<td>\n",
       "&quot;TOSHIBA MG07AC...\n",
       "</td>\n",
       "<td>\n",
       "14000519643136\n",
       "</td>\n",
       "<td>\n",
       "0\n",
       "</td>\n",
       "<td>\n",
       "100\n",
       "</td>\n",
       "<td>\n",
       "0\n",
       "</td>\n",
       "<td>\n",
       "100\n",
       "</td>\n",
       "<td>\n",
       "7770\n",
       "</td>\n",
       "<td>\n",
       "100\n",
       "</td>\n",
       "<td>\n",
       "3\n",
       "</td>\n",
       "<td>\n",
       "100\n",
       "</td>\n",
       "<td>\n",
       "0\n",
       "</td>\n",
       "<td>\n",
       "100\n",
       "</td>\n",
       "<td>\n",
       "0\n",
       "</td>\n",
       "<td>\n",
       "81\n",
       "</td>\n",
       "<td>\n",
       "7758\n",
       "</td>\n",
       "<td>\n",
       "100\n",
       "</td>\n",
       "<td>\n",
       "0\n",
       "</td>\n",
       "<td>\n",
       "100\n",
       "</td>\n",
       "<td>\n",
       "3\n",
       "</td>\n",
       "<td>\n",
       "null\n",
       "</td>\n",
       "<td>\n",
       "null\n",
       "</td>\n",
       "<td>\n",
       "null\n",
       "</td>\n",
       "<td>\n",
       "null\n",
       "</td>\n",
       "<td>\n",
       "100\n",
       "</td>\n",
       "<td>\n",
       "1\n",
       "</td>\n",
       "<td>\n",
       "100\n",
       "</td>\n",
       "<td>\n",
       "13\n",
       "</td>\n",
       "<td>\n",
       "100\n",
       "</td>\n",
       "<td>\n",
       "26\n",
       "</td>\n",
       "<td>\n",
       "100\n",
       "</td>\n",
       "<td>\n",
       "0\n",
       "</td>\n",
       "<td>\n",
       "100\n",
       "</td>\n",
       "<td>\n",
       "0\n",
       "</td>\n",
       "<td>\n",
       "200\n",
       "</td>\n",
       "<td>\n",
       "0\n",
       "</td>\n",
       "<td>\n",
       "null\n",
       "</td>\n",
       "<td>\n",
       "null\n",
       "</td>\n",
       "<td>\n",
       "0\n",
       "</td>\n",
       "</tr>\n",
       "</tbody>\n",
       "</table>\n",
       "</div>"
      ],
      "text/plain": [
       "shape: (5, 40)\n",
       "┌────────┬────────────┬───────┬────────────┬─────┬────────────┬──────────┬────────────┬────────────┐\n",
       "│ date   ┆ serial_num ┆ model ┆ capacity_b ┆ ... ┆ smart_199_ ┆ faildate ┆ Time_till_ ┆ failing_in │\n",
       "│ ---    ┆ ber        ┆ ---   ┆ ytes       ┆     ┆ raw        ┆ ---      ┆ failure    ┆ 14days     │\n",
       "│ date   ┆ ---        ┆ str   ┆ ---        ┆     ┆ ---        ┆ date     ┆ ---        ┆ ---        │\n",
       "│        ┆ str        ┆       ┆ i64        ┆     ┆ i64        ┆          ┆ duration[m ┆ i32        │\n",
       "│        ┆            ┆       ┆            ┆     ┆            ┆          ┆ s]         ┆            │\n",
       "╞════════╪════════════╪═══════╪════════════╪═════╪════════════╪══════════╪════════════╪════════════╡\n",
       "│ 2022-0 ┆ ZLW18P9K   ┆ ST140 ┆ 1400051964 ┆ ... ┆ 0          ┆ null     ┆ null       ┆ 0          │\n",
       "│ 3-11   ┆            ┆ 00NM0 ┆ 3136       ┆     ┆            ┆          ┆            ┆            │\n",
       "│        ┆            ┆ 01G   ┆            ┆     ┆            ┆          ┆            ┆            │\n",
       "│ 2022-0 ┆ ZLW0EGC7   ┆ ST120 ┆ 1200013862 ┆ ... ┆ 0          ┆ null     ┆ null       ┆ 0          │\n",
       "│ 3-11   ┆            ┆ 00NM0 ┆ 5024       ┆     ┆            ┆          ┆            ┆            │\n",
       "│        ┆            ┆ 01G   ┆            ┆     ┆            ┆          ┆            ┆            │\n",
       "│ 2022-0 ┆ ZA1FLE1P   ┆ ST800 ┆ 8001563222 ┆ ... ┆ 0          ┆ null     ┆ null       ┆ 0          │\n",
       "│ 3-11   ┆            ┆ 0NM00 ┆ 016        ┆     ┆            ┆          ┆            ┆            │\n",
       "│        ┆            ┆ 55    ┆            ┆     ┆            ┆          ┆            ┆            │\n",
       "│ 2022-0 ┆ ZA16NQJR   ┆ ST800 ┆ 8001563222 ┆ ... ┆ 0          ┆ null     ┆ null       ┆ 0          │\n",
       "│ 3-11   ┆            ┆ 0NM00 ┆ 016        ┆     ┆            ┆          ┆            ┆            │\n",
       "│        ┆            ┆ 55    ┆            ┆     ┆            ┆          ┆            ┆            │\n",
       "│ 2022-0 ┆ 1050A084F9 ┆ TOSHI ┆ 1400051964 ┆ ... ┆ 0          ┆ null     ┆ null       ┆ 0          │\n",
       "│ 3-11   ┆ 7G         ┆ BA    ┆ 3136       ┆     ┆            ┆          ┆            ┆            │\n",
       "│        ┆            ┆ MG07A ┆            ┆     ┆            ┆          ┆            ┆            │\n",
       "│        ┆            ┆ CA14T ┆            ┆     ┆            ┆          ┆            ┆            │\n",
       "│        ┆            ┆ A     ┆            ┆     ┆            ┆          ┆            ┆            │\n",
       "└────────┴────────────┴───────┴────────────┴─────┴────────────┴──────────┴────────────┴────────────┘"
      ]
     },
     "execution_count": 7,
     "metadata": {},
     "output_type": "execute_result"
    }
   ],
   "source": [
    "classification_target = fe.create_target_classification(creation_date)\n",
    "classification_target.head()"
   ]
  },
  {
   "cell_type": "code",
   "execution_count": 8,
   "metadata": {},
   "outputs": [
    {
     "data": {
      "text/plain": [
       "(80357762, 40)"
      ]
     },
     "execution_count": 8,
     "metadata": {},
     "output_type": "execute_result"
    }
   ],
   "source": [
    "classification_target.shape"
   ]
  },
  {
   "cell_type": "code",
   "execution_count": 9,
   "metadata": {},
   "outputs": [
    {
     "data": {
      "text/plain": [
       "2"
      ]
     },
     "execution_count": 9,
     "metadata": {},
     "output_type": "execute_result"
    }
   ],
   "source": [
    "classification_target['failing_in14days'].n_unique()"
   ]
  },
  {
   "cell_type": "code",
   "execution_count": 10,
   "metadata": {},
   "outputs": [
    {
     "data": {
      "text/plain": [
       "['date',\n",
       " 'serial_number',\n",
       " 'model',\n",
       " 'capacity_bytes',\n",
       " 'failure',\n",
       " 'smart_1_normalized',\n",
       " 'smart_1_raw',\n",
       " 'smart_3_normalized',\n",
       " 'smart_3_raw',\n",
       " 'smart_4_normalized',\n",
       " 'smart_4_raw',\n",
       " 'smart_5_normalized',\n",
       " 'smart_5_raw',\n",
       " 'smart_7_normalized',\n",
       " 'smart_7_raw',\n",
       " 'smart_9_normalized',\n",
       " 'smart_9_raw',\n",
       " 'smart_10_normalized',\n",
       " 'smart_10_raw',\n",
       " 'smart_12_normalized',\n",
       " 'smart_12_raw',\n",
       " 'smart_187_normalized',\n",
       " 'smart_187_raw',\n",
       " 'smart_188_normalized',\n",
       " 'smart_188_raw',\n",
       " 'smart_192_normalized',\n",
       " 'smart_192_raw',\n",
       " 'smart_193_normalized',\n",
       " 'smart_193_raw',\n",
       " 'smart_194_normalized',\n",
       " 'smart_194_raw',\n",
       " 'smart_197_normalized',\n",
       " 'smart_197_raw',\n",
       " 'smart_198_normalized',\n",
       " 'smart_198_raw',\n",
       " 'smart_199_normalized',\n",
       " 'smart_199_raw',\n",
       " 'faildate',\n",
       " 'Time_till_failure',\n",
       " 'failing_in14days']"
      ]
     },
     "execution_count": 10,
     "metadata": {},
     "output_type": "execute_result"
    }
   ],
   "source": [
    "classification_target.columns"
   ]
  },
  {
   "cell_type": "code",
   "execution_count": null,
   "metadata": {},
   "outputs": [],
   "source": [
    "#target_plot = classification_target.to_pandas()"
   ]
  },
  {
   "cell_type": "code",
   "execution_count": null,
   "metadata": {},
   "outputs": [],
   "source": [
    "#grouping = classification_target.lazy().groupby(\"failing_in14days\").agg(pl.mean(classification_target.columns[5:39]))"
   ]
  },
  {
   "cell_type": "code",
   "execution_count": null,
   "metadata": {},
   "outputs": [],
   "source": [
    "#df_grouped = grouping.collect()"
   ]
  },
  {
   "cell_type": "code",
   "execution_count": null,
   "metadata": {},
   "outputs": [],
   "source": [
    "\n",
    "#plt.figure(figsize=(15,8)) # specify figure size\n",
    "#f1 = sns.countplot(x=df_grouped['failure']) # create countplot\n",
    "#f1.tick_params(axis='x', rotation=90) # get x-ticks and rotate them\n",
    "#f1.set(xlabel=None) # set no label for x-axis \n",
    "#f1.set_ylabel(\"counts\", fontsize = 10); # set label for y-axis\n",
    "#f1.set_title('Imbalance data overview', fontsize=20); # set title"
   ]
  },
  {
   "cell_type": "code",
   "execution_count": 11,
   "metadata": {},
   "outputs": [],
   "source": [
    "df_faildates_target1 = classification_target.filter(pl.col(\"failing_in14days\") == 1)"
   ]
  },
  {
   "cell_type": "code",
   "execution_count": 12,
   "metadata": {},
   "outputs": [
    {
     "data": {
      "text/plain": [
       "(47657, 40)"
      ]
     },
     "execution_count": 12,
     "metadata": {},
     "output_type": "execute_result"
    }
   ],
   "source": [
    "df_faildates_target1.shape"
   ]
  },
  {
   "cell_type": "code",
   "execution_count": 13,
   "metadata": {},
   "outputs": [
    {
     "data": {
      "text/plain": [
       "80310105"
      ]
     },
     "execution_count": 13,
     "metadata": {},
     "output_type": "execute_result"
    }
   ],
   "source": [
    "target_0= 80357762-47657\n",
    "target_0"
   ]
  },
  {
   "cell_type": "code",
   "execution_count": 14,
   "metadata": {},
   "outputs": [],
   "source": [
    "target_1=47657"
   ]
  },
  {
   "cell_type": "code",
   "execution_count": 15,
   "metadata": {},
   "outputs": [],
   "source": [
    "target_0=pd.DataFrame()"
   ]
  },
  {
   "cell_type": "code",
   "execution_count": 16,
   "metadata": {},
   "outputs": [],
   "source": [
    "target_1=pd.DataFrame()"
   ]
  },
  {
   "cell_type": "code",
   "execution_count": 17,
   "metadata": {},
   "outputs": [
    {
     "data": {
      "text/plain": [
       "<AxesSubplot:>"
      ]
     },
     "execution_count": 17,
     "metadata": {},
     "output_type": "execute_result"
    },
    {
     "data": {
      "image/png": "[encoded data removed]",
      "text/plain": [
       "<Figure size 640x480 with 1 Axes>"
      ]
     },
     "metadata": {},
     "output_type": "display_data"
    }
   ],
   "source": [
    "sns.barplot(data=[target_1,target_0] )"
   ]
  },
  {
   "cell_type": "code",
   "execution_count": 56,
   "metadata": {},
   "outputs": [],
   "source": [
    "df_new = pd.DataFrame({'failures': [47657],\n",
    "\n",
    "                   'no failure': [80310105]})"
   ]
  },
  {
   "cell_type": "code",
   "execution_count": 57,
   "metadata": {},
   "outputs": [
    {
     "data": {
      "text/html": [
       "<div>\n",
       "<style scoped>\n",
       "    .dataframe tbody tr th:only-of-type {\n",
       "        vertical-align: middle;\n",
       "    }\n",
       "\n",
       "    .dataframe tbody tr th {\n",
       "        vertical-align: top;\n",
       "    }\n",
       "\n",
       "    .dataframe thead th {\n",
       "        text-align: right;\n",
       "    }\n",
       "</style>\n",
       "<table border=\"1\" class=\"dataframe\">\n",
       "  <thead>\n",
       "    <tr style=\"text-align: right;\">\n",
       "      <th></th>\n",
       "      <th>failures</th>\n",
       "      <th>no failure</th>\n",
       "    </tr>\n",
       "  </thead>\n",
       "  <tbody>\n",
       "    <tr>\n",
       "      <th>0</th>\n",
       "      <td>47657</td>\n",
       "      <td>80310105</td>\n",
       "    </tr>\n",
       "  </tbody>\n",
       "</table>\n",
       "</div>"
      ],
      "text/plain": [
       "   failures  no failure\n",
       "0     47657    80310105"
      ]
     },
     "execution_count": 57,
     "metadata": {},
     "output_type": "execute_result"
    }
   ],
   "source": [
    "df_new"
   ]
  },
  {
   "cell_type": "code",
   "execution_count": 58,
   "metadata": {},
   "outputs": [
    {
     "data": {
      "text/plain": [
       "<AxesSubplot:>"
      ]
     },
     "execution_count": 58,
     "metadata": {},
     "output_type": "execute_result"
    },
    {
     "data": {
      "image/png": "[encoded data removed]",
      "text/plain": [
       "<Figure size 1500x800 with 1 Axes>"
      ]
     },
     "metadata": {},
     "output_type": "display_data"
    }
   ],
   "source": [
    "import matplotlib.pyplot as plt\n",
    "plt.figure(figsize=(15,8))\n",
    "sns.barplot(data=df_new )"
   ]
  },
  {
   "cell_type": "code",
   "execution_count": 59,
   "metadata": {},
   "outputs": [],
   "source": [
    "df_new1 = pd.DataFrame({'0': [80310105,47657],\n",
    "\n",
    "                   '1': [0,1]})"
   ]
  },
  {
   "cell_type": "code",
   "execution_count": 60,
   "metadata": {},
   "outputs": [
    {
     "data": {
      "text/plain": [
       "99.94069396805749"
      ]
     },
     "execution_count": 60,
     "metadata": {},
     "output_type": "execute_result"
    }
   ],
   "source": [
    "(80310105/80357762)*100"
   ]
  },
  {
   "cell_type": "code",
   "execution_count": 61,
   "metadata": {},
   "outputs": [
    {
     "data": {
      "text/plain": [
       "0.05930603194250233"
      ]
     },
     "execution_count": 61,
     "metadata": {},
     "output_type": "execute_result"
    }
   ],
   "source": [
    "(47657/80357762)*100"
   ]
  },
  {
   "cell_type": "code",
   "execution_count": 62,
   "metadata": {},
   "outputs": [
    {
     "data": {
      "text/plain": [
       "0.05930603194251205"
      ]
     },
     "execution_count": 62,
     "metadata": {},
     "output_type": "execute_result"
    }
   ],
   "source": [
    "100-99.94069396805749"
   ]
  },
  {
   "cell_type": "code",
   "execution_count": 63,
   "metadata": {},
   "outputs": [
    {
     "data": {
      "text/html": [
       "<div>\n",
       "<style scoped>\n",
       "    .dataframe tbody tr th:only-of-type {\n",
       "        vertical-align: middle;\n",
       "    }\n",
       "\n",
       "    .dataframe tbody tr th {\n",
       "        vertical-align: top;\n",
       "    }\n",
       "\n",
       "    .dataframe thead th {\n",
       "        text-align: right;\n",
       "    }\n",
       "</style>\n",
       "<table border=\"1\" class=\"dataframe\">\n",
       "  <thead>\n",
       "    <tr style=\"text-align: right;\">\n",
       "      <th></th>\n",
       "      <th>0</th>\n",
       "      <th>1</th>\n",
       "    </tr>\n",
       "  </thead>\n",
       "  <tbody>\n",
       "    <tr>\n",
       "      <th>0</th>\n",
       "      <td>80310105</td>\n",
       "      <td>0</td>\n",
       "    </tr>\n",
       "    <tr>\n",
       "      <th>1</th>\n",
       "      <td>47657</td>\n",
       "      <td>1</td>\n",
       "    </tr>\n",
       "  </tbody>\n",
       "</table>\n",
       "</div>"
      ],
      "text/plain": [
       "          0  1\n",
       "0  80310105  0\n",
       "1     47657  1"
      ]
     },
     "execution_count": 63,
     "metadata": {},
     "output_type": "execute_result"
    }
   ],
   "source": [
    "df_new1"
   ]
  },
  {
   "cell_type": "code",
   "execution_count": 64,
   "metadata": {},
   "outputs": [],
   "source": [
    "import matplotlib.pyplot as plt\n",
    "import mplcyberpunk"
   ]
  },
  {
   "cell_type": "code",
   "execution_count": 65,
   "metadata": {},
   "outputs": [],
   "source": [
    "cols = ['#4098fd' if (x < max(df_new1['0'])) else '#6eedda' for x in df_new1['0']]"
   ]
  },
  {
   "cell_type": "code",
   "execution_count": 70,
   "metadata": {},
   "outputs": [
    {
     "data": {
      "image/png": "[encoded data removed]",
      "text/plain": [
       "<Figure size 600x800 with 1 Axes>"
      ]
     },
     "metadata": {},
     "output_type": "display_data"
    },
    {
     "ename": "",
     "evalue": "",
     "output_type": "error",
     "traceback": [
      "\u001b[1;31mThe Kernel crashed while executing code in the the current cell or a previous cell. Please review the code in the cell(s) to identify a possible cause of the failure. Click <a href='https://aka.ms/vscodeJupyterKernelCrash'>here</a> for more info. View Jupyter <a href='command:jupyter.viewOutput'>log</a> for further details."
     ]
    }
   ],
   "source": [
    "#plt.style.use(\"cyberpunk\")\n",
    "plt.style.use('dark_background')\n",
    "plt.figure(figsize=(6,8)) # specify figure size\n",
    "f1 = sns.barplot(data=df_new, palette=cols) # create countplot\n",
    "f1.grid(False)\n",
    "#plt.bar(color=['black', 'red', 'green', 'blue', 'cyan'], x=[0,1])\n",
    "#f1[0].set_color('red')\n",
    "#f1.tick_params(axis='x', rotation=90) # get x-ticks and rotate them\n",
    "f1.set(xlabel=None) # set no label for x-axis \n",
    "f1.set_ylabel(\"Number of samples\", fontsize = 10); # set label for y-axis\n",
    "f1.set_xlabel(\"Targets\", fontsize = 10); # set label for y-axis\n",
    "#f1.set_title('Imbalance data overview', fontsize=20); # set title\n",
    "plt.yscale('log')\n",
    "#plt.style.use(['dark_background', 'presentation']\n",
    "#mplcyberpunk.add_glow_effects()\n"
   ]
  },
  {
   "cell_type": "code",
   "execution_count": null,
   "metadata": {},
   "outputs": [],
   "source": [
    "#plt.figure(figsize=(15,8)) # specify figure size\n",
    "#f1 = sns.countplot(x=df_grouped['failure']) # create countplot\n",
    "#f1.tick_params(axis='x', rotation=90) # get x-ticks and rotate them\n",
    "#f1.set(xlabel=None) # set no label for x-axis \n",
    "#f1.set_ylabel(\"counts\", fontsize = 10); # set label for y-axis\n",
    "#f1.set_title('Imbalance data overview', fontsize=20); # set title"
   ]
  },
  {
   "cell_type": "code",
   "execution_count": null,
   "metadata": {},
   "outputs": [],
   "source": [
    "#df_faildates_target0 = classification_target.filter(pl.col(\"failing_in14days\") == 0)"
   ]
  },
  {
   "cell_type": "code",
   "execution_count": null,
   "metadata": {},
   "outputs": [],
   "source": [
    "#df_failed_example = classification_target.filter(pl.col(\"serial_number\") == \"ZJV3BYAY\")"
   ]
  },
  {
   "cell_type": "code",
   "execution_count": null,
   "metadata": {},
   "outputs": [],
   "source": [
    "#df_failed_example "
   ]
  },
  {
   "cell_type": "code",
   "execution_count": null,
   "metadata": {},
   "outputs": [],
   "source": [
    "#target_savings=fe.search_faulty_drives(classification_target)"
   ]
  },
  {
   "cell_type": "code",
   "execution_count": null,
   "metadata": {},
   "outputs": [],
   "source": [
    "\n",
    "#df_with_faildates = df_all.with_columns(pl.col(\"serial_number\").map_dict(fail_dict).alias(\"faildate\"))"
   ]
  },
  {
   "cell_type": "code",
   "execution_count": null,
   "metadata": {},
   "outputs": [],
   "source": [
    "#df_with_faildates.shape"
   ]
  },
  {
   "cell_type": "code",
   "execution_count": null,
   "metadata": {},
   "outputs": [],
   "source": [
    "#80357762 - 79781429"
   ]
  },
  {
   "cell_type": "code",
   "execution_count": null,
   "metadata": {},
   "outputs": [],
   "source": [
    "#df_all = pl.read_csv('./data/2022_data_selected.parquet')"
   ]
  }
 ],
 "metadata": {
  "kernelspec": {
   "display_name": ".venv",
   "language": "python",
   "name": "python3"
  },
  "language_info": {
   "codemirror_mode": {
    "name": "ipython",
    "version": 3
   },
   "file_extension": ".py",
   "mimetype": "text/x-python",
   "name": "python",
   "nbconvert_exporter": "python",
   "pygments_lexer": "ipython3",
   "version": "3.9.8"
  },
  "orig_nbformat": 4,
  "vscode": {
   "interpreter": {
    "hash": "b4b99188e5364a379ec3ffcc2bc95e2fbc26291e34f70475c442499b88ef0e48"
   }
  }
 },
 "nbformat": 4,
 "nbformat_minor": 2
}
